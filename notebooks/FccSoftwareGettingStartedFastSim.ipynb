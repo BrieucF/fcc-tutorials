{
 "cells": [
  {
   "cell_type": "markdown",
   "metadata": {},
   "source": [
    "FCC: Getting started with the production and analysis of fast-simulated events\n",
    "===================================================================================\n",
    "\n",
    "\n",
    "Contents:\n",
    "\n",
    "  * [FCC: Getting started with the production and analysis of fast\\-simulated events](#fcc-getting-started-with-the-production-and-analysis-of-fast-simulated-events)\n",
    "    * [Overview](#overview)\n",
    "    * [Installation](#installation)\n",
    "    * [Getting started with papas (FCC\\-ee)](#getting-started-with-papas-fcc-ee)\n",
    "      * [Set up your working directory](#set-up-your-working-directory)\n",
    "      * [Generate events with pythia8](#generate-events-with-pythia8)\n",
    "      * [Run papas and the analysis in heppy](#run-papas-and-the-analysis-in-heppy)\n",
    "      * [Make plots](#make-plots)\n",
    "    * [Getting started with Delphes (FCC\\-hh)](#getting-started-with-delphes-fcc-hh)\n",
    "      * [Set up your working directory](#set-up-your-working-directory-1)\n",
    "      * [Run FCCSW with Pythia8+Delphes](#run-fccsw-with-pythia8-+-delphes)\n",
    "      * [Run the analysis in heppy](#run-the-analysis-in-heppy)\n",
    "      * [Make plots](#make-plots-1)\n",
    "      * [CutFlow](#cutflow)"
   ]
  },
  {
   "cell_type": "markdown",
   "metadata": {},
   "source": [
    "## Overview\n",
    "\n",
    "If you want to get started fast with the analysis of fast-simulated events, you’re at the right place.\n",
    "\n",
    "We currently support two different approaches for fast simulation, Papas and Delphes. For now,\n",
    "\n",
    "   * FCC-ee users are encouraged to use Papas,\n",
    "   * FCC-hh and FCC-eh users should use Delphes.\n",
    "\n",
    "However, ultimately, all users are encouraged to try both fast simulations and to compare the results.\n",
    "\n",
    "An analysis ntuple will be produced with `heppy`, a simple modular event processing framework for high energy physics.\n",
    "\n",
    "**This tutorial focuses on FCC-ee users**"
   ]
  },
  {
   "cell_type": "markdown",
   "metadata": {},
   "source": [
    "## Installation\n",
    "\n",
    "*No need of installation, the environment for the FCC software it's already configured and ready to be used.*"
   ]
  },
  {
   "cell_type": "markdown",
   "metadata": {},
   "source": [
    "\n",
    "Getting started with papas (FCC-ee)\n",
    "----------------------------------------"
   ]
  },
  {
   "cell_type": "markdown",
   "metadata": {},
   "source": [
    "In this tutorial, you will learn how to:\n",
    "\n",
    "   * generate events with pythia8 and write them in the FCC EDM format.\n",
    "   * read these events with heppy to run the papas simulation and the analysis to create an ntuple\n",
    "   * read this ntuple with ROOT to make a few plots\n",
    "\n",
    "But first, you will set up a working directory for your analysis."
   ]
  },
  {
   "cell_type": "markdown",
   "metadata": {},
   "source": [
    "### Set up your working directory\n",
    "\n",
    "In Swan, your current working directory will be the folder where the running python notebook is.\n",
    "\n",
    "*However, interaction with the environment is also possible*\n",
    "\n"
   ]
  },
  {
   "cell_type": "markdown",
   "metadata": {},
   "source": [
    "Get a pythia8 card file to generate ZH events. To download this file, do:"
   ]
  },
  {
   "cell_type": "code",
   "execution_count": null,
   "metadata": {},
   "outputs": [],
   "source": [
    "!wget https://raw.githubusercontent.com/HEP-FCC/fcc-physics/master/pythia8/ee_ZH_Zmumu_Hbb.txt"
   ]
  },
  {
   "cell_type": "markdown",
   "metadata": {},
   "source": [
    "Check that your file has been downloaded in your current directory:"
   ]
  },
  {
   "cell_type": "code",
   "execution_count": 5,
   "metadata": {},
   "outputs": [
    {
     "name": "stdout",
     "output_type": "stream",
     "text": [
      "FccSoftwareGettingStartedFastSim.ipynb\tworkdir\r\n"
     ]
    }
   ],
   "source": [
    "! ls ."
   ]
  },
  {
   "cell_type": "markdown",
   "metadata": {},
   "source": [
    "Get the [heppy](https://github.com/HEP-FCC/heppy.git) file for a ZH analysis:"
   ]
  },
  {
   "cell_type": "code",
   "execution_count": 20,
   "metadata": {
    "collapsed": true
   },
   "outputs": [],
   "source": [
    "! cp $HEPPY/test/analysis_ee_ZH_cfg.py ."
   ]
  },
  {
   "cell_type": "markdown",
   "metadata": {},
   "source": [
    "Check again your directory:"
   ]
  },
  {
   "cell_type": "code",
   "execution_count": 4,
   "metadata": {},
   "outputs": [
    {
     "name": "stdout",
     "output_type": "stream",
     "text": [
      "FccSoftwareGettingStartedFastSim.ipynb\tworkdir\r\n"
     ]
    }
   ],
   "source": [
    "! ls"
   ]
  },
  {
   "cell_type": "markdown",
   "metadata": {},
   "source": [
    "### Generate events with pythia8\n",
    "\n",
    "Here, we decide to use the standalone `fcc-physics` package to generate events instead of FCCSW. The advantage of the `fcc-physics` package is that it is supported for several operating systems, and in particular for mac os X and linux while FCCSW only works on lxplus. In other words, you could use fcc-physics to generate events on your notebook. That being said, it is of course possible to generate events with FCCSW. - \n",
    "\n",
    "#### **In SWAN, this is not a problem for the users since the environment is homogenous for all of them**\n",
    "\n",
    "Generate ee to ZH events with Z to mumu and H to b bbar:"
   ]
  },
  {
   "cell_type": "code",
   "execution_count": 22,
   "metadata": {
    "scrolled": true
   },
   "outputs": [
    {
     "name": "stdout",
     "output_type": "stream",
     "text": [
      "start processing\n",
      "output file: ee_ZH_Zmumu_Hbb.root\n",
      "\n",
      " *------------------------------------------------------------------------------------* \n",
      " |                                                                                    | \n",
      " |  *------------------------------------------------------------------------------*  | \n",
      " |  |                                                                              |  | \n",
      " |  |                                                                              |  | \n",
      " |  |   PPP   Y   Y  TTTTT  H   H  III    A      Welcome to the Lund Monte Carlo!  |  | \n",
      " |  |   P  P   Y Y     T    H   H   I    A A     This is PYTHIA version 8.226      |  | \n",
      " |  |   PPP     Y      T    HHHHH   I   AAAAA    Last date of change: 26 Apr 2017  |  | \n",
      " |  |   P       Y      T    H   H   I   A   A                                      |  | \n",
      " |  |   P       Y      T    H   H  III  A   A    Now is 21 Feb 2018 at 11:14:34    |  | \n",
      " |  |                                                                              |  | \n",
      " |  |   Torbjorn Sjostrand;  Department of Astronomy and Theoretical Physics,      |  | \n",
      " |  |      Lund University, Solvegatan 14A, SE-223 62 Lund, Sweden;                |  | \n",
      " |  |      e-mail: torbjorn@thep.lu.se                                             |  | \n",
      " |  |   Nishita Desai;  Laboratoire Charles Coulomb (L2C),                         |  | \n",
      " |  |      CNRS-Universite de Montpellier, 34090 Montpellier, France;              |  | \n",
      " |  |      e-mail: nishita.desai@umontpellier.fr                                   |  | \n",
      " |  |   Nadine Fischer;  School of Physics,                                        |  | \n",
      " |  |      Monash University, PO Box 27, 3800 Melbourne, Australia;                |  | \n",
      " |  |      e-mail: nadine.fischer@monash.edu                                       |  | \n",
      " |  |   Ilkka Helenius;  Institute for Theoretical Physics,                        |  | \n",
      " |  |     Tuebingen University, Auf der Morgenstelle 14, 72076 Tuebingen, Germany; |  | \n",
      " |  |      e-mail: ilkka.helenius@uni-tuebingen.de                                 |  | \n",
      " |  |   Philip Ilten;  Massachusetts Institute of Technology,                      |  | \n",
      " |  |      77 Massachusetts Ave, Cambridge, MA 02139, USA;                         |  | \n",
      " |  |      e-mail: philten@cern.ch                                                 |  | \n",
      " |  |   Leif Lonnblad;  Department of Astronomy and Theoretical Physics,           |  | \n",
      " |  |      Lund University, Solvegatan 14A, SE-223 62 Lund, Sweden;                |  | \n",
      " |  |      e-mail: leif.lonnblad@thep.lu.se                                        |  | \n",
      " |  |   Stephen Mrenna;  Computing Division, Simulations Group,                    |  | \n",
      " |  |      Fermi National Accelerator Laboratory, MS 234, Batavia, IL 60510, USA;  |  | \n",
      " |  |      e-mail: mrenna@fnal.gov                                                 |  | \n",
      " |  |   Stefan Prestel;  Theoretical Physics Department,                           |  | \n",
      " |  |      Fermi National Accelerator Laboratory, MS 106, Batavia, IL 60510, USA;  |  | \n",
      " |  |      e-mail: sprestel@fnal.gov                                               |  | \n",
      " |  |   Christine O. Rasmussen;  Department of Astronomy and Theoretical Physics,  |  | \n",
      " |  |      Lund University, Solvegatan 14A, SE-223 62 Lund, Sweden;                |  | \n",
      " |  |      e-mail: christine.rasmussen@thep.lu.se                                  |  | \n",
      " |  |   Peter Skands;  School of Physics,                                          |  | \n",
      " |  |      Monash University, PO Box 27, 3800 Melbourne, Australia;                |  | \n",
      " |  |      e-mail: peter.skands@monash.edu                                         |  | \n",
      " |  |                                                                              |  | \n",
      " |  |   The main program reference is 'An Introduction to PYTHIA 8.2',             |  | \n",
      " |  |   T. Sjostrand et al, Comput. Phys. Commun. 191 (2015) 159                   |  | \n",
      " |  |   [arXiv:1410.3012 [hep-ph]]                                                 |  | \n",
      " |  |                                                                              |  | \n",
      " |  |   The main physics reference is the 'PYTHIA 6.4 Physics and Manual',         |  | \n",
      " |  |   T. Sjostrand, S. Mrenna and P. Skands, JHEP05 (2006) 026 [hep-ph/0603175]  |  | \n",
      " |  |                                                                              |  | \n",
      " |  |   An archive of program versions and documentation is found on the web:      |  | \n",
      " |  |   http://www.thep.lu.se/Pythia                                               |  | \n",
      " |  |                                                                              |  | \n",
      " |  |   This program is released under the GNU General Public Licence version 2.   |  | \n",
      " |  |   Please respect the MCnet Guidelines for Event Generator Authors and Users. |  | \n",
      " |  |                                                                              |  | \n",
      " |  |   Disclaimer: this program comes without any guarantees.                     |  | \n",
      " |  |   Beware of errors and use common sense when interpreting results.           |  | \n",
      " |  |                                                                              |  | \n",
      " |  |   Copyright (C) 2017 Torbjorn Sjostrand                                      |  | \n",
      " |  |                                                                              |  | \n",
      " |  |                                                                              |  | \n",
      " |  *------------------------------------------------------------------------------*  | \n",
      " |                                                                                    | \n",
      " *------------------------------------------------------------------------------------* \n",
      "\n",
      "\n",
      " *-------  PYTHIA Process Initialization  --------------------------*\n",
      " |                                                                  |\n",
      " | We collide e- with e+ at a CM energy of 2.400e+02 GeV            |\n",
      " |                                                                  |\n",
      " |------------------------------------------------------------------|\n",
      " |                                                    |             |\n",
      " | Subprocess                                    Code |   Estimated |\n",
      " |                                                    |    max (mb) |\n",
      " |                                                    |             |\n",
      " |------------------------------------------------------------------|\n",
      " |                                                    |             |\n",
      " | f fbar -> H0 Z0 (SM)                           904 |   2.001e-10 |\n",
      " |                                                                  |\n",
      " *-------  End PYTHIA Process Initialization -----------------------*\n",
      "\n",
      " *-------  PYTHIA Flag + Mode + Parm + Word + FVec + MVec + PVec + WVec Settings (changes only)  ------------------* \n",
      " |                                                                                                                 | \n",
      " | Name                                          |                      Now |      Default         Min         Max | \n",
      " |                                               |                          |                                      | \n",
      " | Beams:eCM                                     |                240.00000 |    14000.000    10.00000             | \n",
      " | Beams:idA                                     |                       11 |         2212                         | \n",
      " | Beams:idB                                     |                      -11 |         2212                         | \n",
      " | HiggsSM:ffbar2HZ                              |                       on |          off                         | \n",
      " | Init:showChangedParticleData                  |                      off |           on                         | \n",
      " | Main:timesAllowErrors                         |                        3 |           10           0             | \n",
      " | Next:numberCount                              |                      100 |         1000           0             | \n",
      " | Next:numberShowEvent                          |                        0 |            1           0             | \n",
      " |                                                                                                                 | \n",
      " *-------  End PYTHIA Flag + Mode + Parm + Word + FVec + MVec + PVec + WVec Settings  -----------------------------* \n",
      "\n",
      " --------  PYTHIA Info Listing  ---------------------------------------- \n",
      " \n",
      " Beam A: id =     11, pz =  1.200e+02, e =  1.200e+02, m =  5.110e-04.\n",
      " Beam B: id =    -11, pz = -1.200e+02, e =  1.200e+02, m =  5.110e-04.\n",
      "\n",
      " In 1: id =   11, x =  9.348e-01, pdf =  6.969e-01 at Q2 =  5.336e+04.\n",
      " In 2: id =  -11, x =  9.910e-01, pdf =  5.014e+00 at same Q2.\n",
      "\n",
      " Subprocess f fbar -> H0 Z0 (SM) with code 904 is 2 -> 2.\n",
      " It has sHat =  5.336e+04,    tHat = -1.445e+04,    uHat = -1.473e+04,\n",
      "       pTHat =  3.852e+01,   m3Hat =  1.250e+02,   m4Hat =  9.249e+01,\n",
      "    thetaHat =  1.556e+00,  phiHat =  3.837e+00.\n",
      "     alphaEM =  7.901e-03,  alphaS =  1.137e-01    at Q2 =  5.336e+04.\n",
      "\n",
      " Impact parameter b =  0.000e+00 gives enhancement factor =  1.000e+00.\n",
      " Max pT scale for MPI =  2.400e+02, ISR =  2.400e+02, FSR =  2.400e+02.\n",
      " Number of MPI =     1, ISR =     2, FSRproc =     0, FSRreson =    13.\n",
      "\n",
      " --------  End PYTHIA Info Listing  ------------------------------------\n",
      "\n",
      " --------  PYTHIA Event Listing  (hard process)  -----------------------------------------------------------------------------------\n",
      " \n",
      "    no        id   name            status     mothers   daughters     colours      p_x        p_y        p_z         e          m \n",
      "     0        90   (system)           -11     0     0     0     0     0     0      0.000      0.000      0.000    240.000    240.000\n",
      "     1        11   (e-)               -12     0     0     3     0     0     0      0.000      0.000    120.000    120.000      0.001\n",
      "     2       -11   (e+)               -12     0     0     4     0     0     0      0.000      0.000   -120.000    120.000      0.001\n",
      "     3        11   (e-)               -21     1     0     5     6     0     0      0.000      0.000    112.177    112.177      0.000\n",
      "     4       -11   (e+)               -21     2     0     5     6     0     0      0.000      0.000   -118.915    118.915      0.000\n",
      "     5        25   (h0)               -22     3     4     7     8     0     0    -29.573    -24.683     -3.227    130.840    125.000\n",
      "     6        23   (Z0)               -22     3     4     9    10     0     0     29.573     24.683     -3.511    100.252     92.490\n",
      "     7         5   b                   23     5     0     0     0   101     0    -78.241    -20.071      4.842     81.061      4.800\n",
      "     8        -5   bbar                23     5     0     0     0     0   101     48.668     -4.612     -8.069     49.779      4.800\n",
      "     9        13   mu-                 23     6     0     0     0     0     0     21.411     -9.363     38.824     45.315      0.106\n",
      "    10       -13   mu+                 23     6     0     0     0     0     0      8.162     34.046    -42.336     54.937      0.106\n",
      "                                   Charge sum:  0.000           Momentum sum:     -0.000     -0.000     -6.738    231.093    230.994\n",
      "\n",
      " --------  End PYTHIA Event Listing  -----------------------------------------------------------------------------------------------\n",
      "#--------------------------------------------------------------------------\n",
      "#                         FastJet release 3.3.0\n",
      "#                 M. Cacciari, G.P. Salam and G. Soyez                  \n",
      "#     A software package for jet finding and analysis at colliders      \n",
      "#                           http://fastjet.fr                           \n",
      "#\t                                                                      \n",
      "# Please cite EPJC72(2012)1896 [arXiv:1111.6097] if you use this package\n",
      "# for scientific work and optionally PLB641(2006)57 [hep-ph/0512210].   \n",
      "#                                                                       \n",
      "# FastJet is provided without warranty under the terms of the GNU GPLv2.\n",
      "# It uses T. Chan's closest pair algorithm, S. Fortune's Voronoi code\n",
      "# and 3rd party plugin jet algorithms. See COPYING file for details.\n",
      "#--------------------------------------------------------------------------\n"
     ]
    },
    {
     "name": "stdout",
     "output_type": "stream",
     "text": [
      "\n",
      " Pythia::next(): 100 events have been generated \n",
      "\n",
      " Pythia::next(): 200 events have been generated \n",
      "\n",
      " Pythia::next(): 300 events have been generated \n",
      "\n",
      " Pythia::next(): 400 events have been generated \n",
      "\n",
      " Pythia::next(): 500 events have been generated \n",
      "\n",
      " Pythia::next(): 600 events have been generated \n",
      "\n",
      " Pythia::next(): 700 events have been generated \n",
      "\n",
      " Pythia::next(): 800 events have been generated \n",
      "\n",
      " Pythia::next(): 900 events have been generated \n",
      "\n",
      " *-------  PYTHIA Event and Cross Section Statistics  -------------------------------------------------------------*\n",
      " |                                                                                                                 |\n",
      " | Subprocess                                    Code |            Number of events       |      sigma +- delta    |\n",
      " |                                                    |       Tried   Selected   Accepted |     (estimated) (mb)   |\n",
      " |                                                    |                                   |                        |\n",
      " |-----------------------------------------------------------------------------------------------------------------|\n",
      " |                                                    |                                   |                        |\n",
      " | f fbar -> H0 Z0 (SM)                           904 |       52296       1000       1000 |   3.871e-12  4.704e-14 |\n",
      " |                                                    |                                   |                        |\n",
      " | sum                                                |       52296       1000       1000 |   3.871e-12  4.704e-14 |\n",
      " |                                                                                                                 |\n",
      " *-------  End PYTHIA Event and Cross Section Statistics ----------------------------------------------------------*\n",
      "\n",
      " *-------  PYTHIA Error and Warning Messages Statistics  ----------------------------------------------------------* \n",
      " |                                                                                                                 | \n",
      " |  times   message                                                                                                | \n",
      " |                                                                                                                 | \n",
      " |      0   no errors or warnings to report                                                                        | \n",
      " |                                                                                                                 | \n",
      " *-------  End PYTHIA Error and Warning Messages Statistics  ------------------------------------------------------* \n"
     ]
    }
   ],
   "source": [
    "! fcc-pythia8-generate ee_ZH_Zmumu_Hbb.txt"
   ]
  },
  {
   "cell_type": "markdown",
   "metadata": {},
   "source": [
    "You should obtain a file `ee_ZH_Zmumu_Hbb.root` written in the FCC EDM format. Let us open it and check the contents.\n",
    "\n",
    "In Swan, **from the python kernel**, we can do this either on `python` or `c++`."
   ]
  },
  {
   "cell_type": "code",
   "execution_count": 23,
   "metadata": {
    "collapsed": true
   },
   "outputs": [],
   "source": [
    "import ROOT"
   ]
  },
  {
   "cell_type": "markdown",
   "metadata": {},
   "source": [
    "**C++**"
   ]
  },
  {
   "cell_type": "code",
   "execution_count": 25,
   "metadata": {},
   "outputs": [
    {
     "name": "stdout",
     "output_type": "stream",
     "text": [
      "(TFile *) 0x8c7f210\n"
     ]
    }
   ],
   "source": [
    "%%cpp\n",
    "auto f = new TFile(\"ee_ZH_Zmumu_Hbb.root\")"
   ]
  },
  {
   "cell_type": "code",
   "execution_count": 26,
   "metadata": {},
   "outputs": [
    {
     "name": "stdout",
     "output_type": "stream",
     "text": [
      "******************************************************************************\n",
      "*Tree    :events    : Events tree                                            *\n",
      "*Entries :     1000 : Total =        10863964 bytes  File  Size =    2990901 *\n",
      "*        :          : Tree compression factor =   3.63                       *\n",
      "******************************************************************************\n",
      "*Br    0 :EventInfo : Int_t EventInfo_                                       *\n",
      "*Entries :     1000 : Total  Size=       9722 bytes  File Size  =       1392 *\n",
      "*Baskets :        1 : Basket Size=      32000 bytes  Compression=   5.81     *\n",
      "*............................................................................*\n",
      "*Br    1 :EventInfo.number : Int_t number[EventInfo_]                        *\n",
      "*Entries :     1000 : Total  Size=       8710 bytes  File Size  =       2891 *\n",
      "*Baskets :        1 : Basket Size=      32000 bytes  Compression=   2.80     *\n",
      "*............................................................................*\n",
      "*Br    2 :GenParticle : Int_t GenParticle_                                   *\n",
      "*Entries :     1000 : Total  Size=      18387 bytes  File Size  =       3110 *\n",
      "*Baskets :        1 : Basket Size=      32000 bytes  Compression=   2.60     *\n",
      "*............................................................................*\n",
      "*Br    3 :GenParticle.core.bits : UInt_t bits[GenParticle_]                  *\n",
      "*Entries :     1000 : Total  Size=     620455 bytes  File Size  =       8967 *\n",
      "*Baskets :       20 : Basket Size=      32000 bytes  Compression=  69.10     *\n",
      "*............................................................................*\n",
      "*Br    4 :GenParticle.core.charge : Int_t charge[GenParticle_]               *\n",
      "*Entries :     1000 : Total  Size=     620503 bytes  File Size  =      71528 *\n",
      "*Baskets :       20 : Basket Size=      32000 bytes  Compression=   8.66     *\n",
      "*............................................................................*\n",
      "*Br    5 :GenParticle.core.p4.mass : Float_t mass[GenParticle_]              *\n",
      "*Entries :     1000 : Total  Size=     620521 bytes  File Size  =     254291 *\n",
      "*Baskets :       20 : Basket Size=      32000 bytes  Compression=   2.44     *\n",
      "*............................................................................*\n",
      "*Br    6 :GenParticle.core.p4.px : Float_t px[GenParticle_]                  *\n",
      "*Entries :     1000 : Total  Size=     620473 bytes  File Size  =     530762 *\n",
      "*Baskets :       20 : Basket Size=      32000 bytes  Compression=   1.17     *\n",
      "*............................................................................*\n",
      "*Br    7 :GenParticle.core.p4.py : Float_t py[GenParticle_]                  *\n",
      "*Entries :     1000 : Total  Size=     620473 bytes  File Size  =     530749 *\n",
      "*Baskets :       20 : Basket Size=      32000 bytes  Compression=   1.17     *\n",
      "*............................................................................*\n",
      "*Br    8 :GenParticle.core.p4.pz : Float_t pz[GenParticle_]                  *\n",
      "*Entries :     1000 : Total  Size=     620473 bytes  File Size  =     537721 *\n",
      "*Baskets :       20 : Basket Size=      32000 bytes  Compression=   1.15     *\n",
      "*............................................................................*\n",
      "*Br    9 :GenParticle.core.pdgId : Int_t pdgId[GenParticle_]                 *\n",
      "*Entries :     1000 : Total  Size=     620479 bytes  File Size  =     153651 *\n",
      "*Baskets :       20 : Basket Size=      32000 bytes  Compression=   4.03     *\n",
      "*............................................................................*\n",
      "*Br   10 :GenParticle.core.status : UInt_t status[GenParticle_]              *\n",
      "*Entries :     1000 : Total  Size=     620503 bytes  File Size  =      65979 *\n",
      "*Baskets :       20 : Basket Size=      32000 bytes  Compression=   9.39     *\n",
      "*............................................................................*\n",
      "*Br   11 :GenParticle.core.vertex.x : Float_t x[GenParticle_]                *\n",
      "*Entries :     1000 : Total  Size=     620537 bytes  File Size  =       9046 *\n",
      "*Baskets :       20 : Basket Size=      32000 bytes  Compression=  68.50     *\n",
      "*............................................................................*\n",
      "*Br   12 :GenParticle.core.vertex.y : Float_t y[GenParticle_]                *\n",
      "*Entries :     1000 : Total  Size=     620537 bytes  File Size  =       9046 *\n",
      "*Baskets :       20 : Basket Size=      32000 bytes  Compression=  68.50     *\n",
      "*............................................................................*\n",
      "*Br   13 :GenParticle.core.vertex.z : Float_t z[GenParticle_]                *\n",
      "*Entries :     1000 : Total  Size=     620537 bytes  File Size  =       9046 *\n",
      "*Baskets :       20 : Basket Size=      32000 bytes  Compression=  68.50     *\n",
      "*............................................................................*\n",
      "*Br   14 :GenParticle#0 : Int_t GenParticle#0_                               *\n",
      "*Entries :     1000 : Total  Size=      10835 bytes  File Size  =       3129 *\n",
      "*Baskets :        1 : Basket Size=      32000 bytes  Compression=   2.59     *\n",
      "*............................................................................*\n",
      "*Br   15 :GenParticle#0.index : Int_t index[GenParticle#0_]                  *\n",
      "*Entries :     1000 : Total  Size=     620421 bytes  File Size  =     108904 *\n",
      "*Baskets :       20 : Basket Size=      32000 bytes  Compression=   5.69     *\n",
      "*............................................................................*\n",
      "*Br   16 :GenParticle#0.collectionID : Int_t collectionID[GenParticle#0_]    *\n",
      "*Entries :     1000 : Total  Size=     620589 bytes  File Size  =      13611 *\n",
      "*Baskets :       20 : Basket Size=      32000 bytes  Compression=  45.53     *\n",
      "*............................................................................*\n",
      "*Br   17 :GenParticle#1 : Int_t GenParticle#1_                               *\n",
      "*Entries :     1000 : Total  Size=      10835 bytes  File Size  =       3129 *\n",
      "*Baskets :        1 : Basket Size=      32000 bytes  Compression=   2.59     *\n",
      "*............................................................................*\n",
      "*Br   18 :GenParticle#1.index : Int_t index[GenParticle#1_]                  *\n",
      "*Entries :     1000 : Total  Size=     620421 bytes  File Size  =     166298 *\n",
      "*Baskets :       20 : Basket Size=      32000 bytes  Compression=   3.73     *\n",
      "*............................................................................*\n",
      "*Br   19 :GenParticle#1.collectionID : Int_t collectionID[GenParticle#1_]    *\n",
      "*Entries :     1000 : Total  Size=     620589 bytes  File Size  =      56396 *\n",
      "*Baskets :       20 : Basket Size=      32000 bytes  Compression=  10.99     *\n",
      "*............................................................................*\n",
      "*Br   20 :GenVertex : Int_t GenVertex_                                       *\n",
      "*Entries :     1000 : Total  Size=      11677 bytes  File Size  =       3069 *\n",
      "*Baskets :        1 : Basket Size=      32000 bytes  Compression=   2.63     *\n",
      "*............................................................................*\n",
      "*Br   21 :GenVertex.position.x : Float_t x[GenVertex_]                       *\n",
      "*Entries :     1000 : Total  Size=     328042 bytes  File Size  =      91570 *\n",
      "*Baskets :       11 : Basket Size=      32000 bytes  Compression=   3.58     *\n",
      "*............................................................................*\n",
      "*Br   22 :GenVertex.position.y : Float_t y[GenVertex_]                       *\n",
      "*Entries :     1000 : Total  Size=     328042 bytes  File Size  =      91591 *\n",
      "*Baskets :       11 : Basket Size=      32000 bytes  Compression=   3.57     *\n",
      "*............................................................................*\n",
      "*Br   23 :GenVertex.position.z : Float_t z[GenVertex_]                       *\n",
      "*Entries :     1000 : Total  Size=     328042 bytes  File Size  =      91583 *\n",
      "*Baskets :       11 : Basket Size=      32000 bytes  Compression=   3.57     *\n",
      "*............................................................................*\n",
      "*Br   24 :GenVertex.ctau : Float_t ctau[GenVertex_]                          *\n",
      "*Entries :     1000 : Total  Size=     327970 bytes  File Size  =      90005 *\n",
      "*Baskets :       11 : Basket Size=      32000 bytes  Compression=   3.64     *\n",
      "*............................................................................*\n",
      "*Br   25 :GenJet    : Int_t GenJet_                                          *\n",
      "*Entries :     1000 : Total  Size=      13910 bytes  File Size  =       2142 *\n",
      "*Baskets :        1 : Basket Size=      32000 bytes  Compression=   3.77     *\n",
      "*............................................................................*\n",
      "*Br   26 :GenJet.core.area : Float_t area[GenJet_]                           *\n",
      "*Entries :     1000 : Total  Size=      20670 bytes  File Size  =       1911 *\n",
      "*Baskets :        1 : Basket Size=      32000 bytes  Compression=  10.50     *\n",
      "*............................................................................*\n",
      "*Br   27 :GenJet.core.bits : UInt_t bits[GenJet_]                            *\n",
      "*Entries :     1000 : Total  Size=      20670 bytes  File Size  =       1911 *\n",
      "*Baskets :        1 : Basket Size=      32000 bytes  Compression=  10.50     *\n",
      "*............................................................................*\n",
      "*Br   28 :GenJet.core.p4.mass : Float_t mass[GenJet_]                        *\n",
      "*Entries :     1000 : Total  Size=      20679 bytes  File Size  =      15097 *\n",
      "*Baskets :        1 : Basket Size=      32000 bytes  Compression=   1.33     *\n",
      "*............................................................................*\n",
      "*Br   29 :GenJet.core.p4.px : Float_t px[GenJet_]                            *\n",
      "*Entries :     1000 : Total  Size=      20669 bytes  File Size  =      16808 *\n",
      "*Baskets :        1 : Basket Size=      32000 bytes  Compression=   1.19     *\n",
      "*............................................................................*\n",
      "*Br   30 :GenJet.core.p4.py : Float_t py[GenJet_]                            *\n",
      "*Entries :     1000 : Total  Size=      20669 bytes  File Size  =      16803 *\n",
      "*Baskets :        1 : Basket Size=      32000 bytes  Compression=   1.19     *\n",
      "*............................................................................*\n",
      "*Br   31 :GenJet.core.p4.pz : Float_t pz[GenJet_]                            *\n",
      "*Entries :     1000 : Total  Size=      20669 bytes  File Size  =      16826 *\n",
      "*Baskets :        1 : Basket Size=      32000 bytes  Compression=   1.19     *\n",
      "*............................................................................*\n",
      "*Br   32 :GenJet.particles_begin : UInt_t particles_begin[GenJet_]           *\n",
      "*Entries :     1000 : Total  Size=      20710 bytes  File Size  =       1919 *\n",
      "*Baskets :        1 : Basket Size=      32000 bytes  Compression=  10.46     *\n",
      "*............................................................................*\n",
      "*Br   33 :GenJet.particles_end : UInt_t particles_end[GenJet_]               *\n",
      "*Entries :     1000 : Total  Size=      20700 bytes  File Size  =       1912 *\n",
      "*Baskets :        1 : Basket Size=      32000 bytes  Compression=  10.50     *\n",
      "*............................................................................*\n",
      "*Br   34 :GenJet#0  : Int_t GenJet#0_                                        *\n",
      "*Entries :     1000 : Total  Size=      10320 bytes  File Size  =       1386 *\n",
      "*Baskets :        1 : Basket Size=      32000 bytes  Compression=   5.83     *\n",
      "*............................................................................*\n",
      "*Br   35 :GenJet#0.index : Int_t index[GenJet#0_]                            *\n",
      "*Entries :     1000 : Total  Size=       4698 bytes  File Size  =        144 *\n",
      "*Baskets :        1 : Basket Size=      32000 bytes  Compression=  28.41     *\n",
      "*............................................................................*\n",
      "*Br   36 :GenJet#0.collectionID : Int_t collectionID[GenJet#0_]              *\n",
      "*Entries :     1000 : Total  Size=       4733 bytes  File Size  =        151 *\n",
      "*Baskets :        1 : Basket Size=      32000 bytes  Compression=  27.14     *\n",
      "*............................................................................*\n"
     ]
    }
   ],
   "source": [
    "%%cpp\n",
    "events->Print()"
   ]
  },
  {
   "cell_type": "markdown",
   "metadata": {},
   "source": [
    "You’re getting a list of the available collections. You can use root to draw the distribution of a variable. For example, the distribution of the charge of the stable generated muons:"
   ]
  },
  {
   "cell_type": "code",
   "execution_count": 28,
   "metadata": {},
   "outputs": [
    {
     "data": {
      "image/png": "[encoded data removed]",
      "text/plain": [
       "<IPython.core.display.Image object>"
      ]
     },
     "metadata": {},
     "output_type": "display_data"
    }
   ],
   "source": [
    "%%cpp\n",
    "auto c = new TCanvas();\n",
    "events->Draw(\"GenParticle.core.charge\", \"abs(GenParticle.core.pdgId)==13 && GenParticle.core.status==1\");\n",
    "c->Draw();"
   ]
  },
  {
   "cell_type": "markdown",
   "metadata": {},
   "source": [
    "** Python example **\n",
    "\n",
    "Let's now reproduce the same example in `python`:"
   ]
  },
  {
   "cell_type": "code",
   "execution_count": 29,
   "metadata": {},
   "outputs": [
    {
     "data": {
      "image/png": "[encoded data removed]",
      "text/plain": [
       "<IPython.core.display.Image object>"
      ]
     },
     "metadata": {},
     "output_type": "display_data"
    }
   ],
   "source": [
    "import ROOT\n",
    "f = ROOT.TFile(\"ee_ZH_Zmumu_Hbb.root\")\n",
    "\n",
    "c1 = ROOT.TCanvas()\n",
    "f.events.Draw(\"GenParticle.core.charge\", \"abs(GenParticle.core.pdgId)==13 && GenParticle.core.status==1\")\n",
    "c1.Draw()"
   ]
  },
  {
   "cell_type": "markdown",
   "metadata": {},
   "source": [
    "We are now going to run the `papas` simulation and to build an ntuple with meaningful variables for the analysis."
   ]
  },
  {
   "cell_type": "markdown",
   "metadata": {},
   "source": [
    "### Run papas and the analysis in [heppy](https://github.com/HEP-FCC/heppy.git)"
   ]
  },
  {
   "cell_type": "markdown",
   "metadata": {},
   "source": [
    "The `ROOT file` obtained in the previous section contains for each event all generated particles produced by `pythia`.\n",
    "\n",
    "In this section we will run an heppy job to: \n",
    "\n",
    "- run papas, a fast simulation that processes these generated particles to produce “reconstructed” particles \n",
    "- process the papas reconstructed particles and compute various analysis variables \n",
    "- store these variables in an ntuple written in an output root file.\n",
    "\n",
    "The [heppy](https://github.com/HEP-FCC/heppy.git) configuration file describing these steps,\n",
    "[analysis\\_ee\\_ZH\\_cfg.py](https://github.com/HEP-FCC/heppy/blob/master/test/analysis_ee_ZH_cfg.py),\n",
    "is explained [here](https://github.com/HEP-FCC/heppy/blob/master/doc/example_analysis.md).\n",
    "Just refer to this documentation as needed while following the instructions below.\n",
    "\n",
    "**DISCLAIMER**: Original tutorial uses heppy as a command to do this part interactively, this is not fully integrated yet. But we can still run `heppy` as if we were in a bash shell to produce the output files we need.\n",
    "\n",
    "\n",
    "First, produce the display for the first event:"
   ]
  },
  {
   "cell_type": "code",
   "execution_count": 6,
   "metadata": {
    "collapsed": true
   },
   "outputs": [],
   "source": [
    "# Heppy needs to know if we are running a CMS or FCC analysis\n",
    "import os\n",
    "os.environ['FCCPHYSICS'] = \"yes\""
   ]
  },
  {
   "cell_type": "code",
   "execution_count": 31,
   "metadata": {},
   "outputs": [
    {
     "name": "stdout",
     "output_type": "stream",
     "text": [
      "\u001b]0;IPython: FCC/Demos\u0007Jet clusterizer in ee mode, ee_kt, E sorting\n",
      "#--------------------------------------------------------------------------\n",
      "#                         FastJet release 3.3.0\n",
      "#                 M. Cacciari, G.P. Salam and G. Soyez                  \n",
      "#     A software package for jet finding and analysis at colliders      \n",
      "#                           http://fastjet.fr                           \n",
      "#\t                                                                      \n",
      "# Please cite EPJC72(2012)1896 [arXiv:1111.6097] if you use this package\n",
      "# for scientific work and optionally PLB641(2006)57 [hep-ph/0512210].   \n",
      "#                                                                       \n",
      "# FastJet is provided without warranty under the terms of the GNU GPLv2.\n",
      "# It uses T. Chan's closest pair algorithm, S. Fortune's Voronoi code\n",
      "# and 3rd party plugin jet algorithms. See COPYING file for details.\n",
      "#--------------------------------------------------------------------------\n",
      "\n",
      "SimulationError : cannot make cluster for particle: \n",
      "particle: Particle :ps3   :10261496475603173379: pdgid =    22, status =   1, q =  0, e =  12.3, theta =  0.26, phi = -3.13, mass =  0.00\n",
      "with vertex rho= 3.49, z= 0.90\n",
      "cannot be extrapolated to : SurfaceCylinder : ecal_in, R= 1.30, z= 2.00\n",
      "\n",
      "Particle not extrapolated to the detector, so cannot make a cluster there. No worries for now, problem will be solved :-) -> Event discarded\n",
      "\n",
      "Component: ee_ZH_Zmumu_Hbb\n",
      "\tdataset_entries:   0\n",
      "\tfiles          :   ['/eos/user/j/jcervant/FCC/Demos/ee_ZH_Zmumu_Hbb.root']\n",
      "\tisData         :   False\n",
      "\tisEmbed        :   False\n",
      "\tisMC           :   False\n",
      "\ttree_name      :   None\n",
      "\ttriggers       :   None\n",
      "\n",
      "\n",
      "      ---- TimeReport (all times in ms; first evt is skipped) ---- \n",
      "processed    all evts    time/proc    time/all   [%]    analyer\n",
      "---------    --------    ---------   ---------  -----   -------------\n",
      "      100         100        40.12       40.12   6.3%   heppy.analyzers.fcc.Reader.Reader_1\n",
      "      100         100         0.70        0.70   0.1%   heppy.analyzers.PDebugger.PDebugger_1\n",
      "      100         100         0.44        0.44   0.1%   heppy.analyzers.Selector.Selector_1\n",
      "      100         100       381.88      381.88  59.8%   heppy.analyzers.PapasSim.PapasSim_papas\n",
      "       99         100        68.79       68.10  10.7%   heppy.analyzers.PapasPFBlockBuilder.PapasPFBlockBuilder_1\n",
      "       99         100       139.61      138.20  21.7%   heppy.analyzers.PapasPFReconstructor.PapasPFReconstructor_1\n",
      "       99         100         0.19        0.19   0.0%   heppy.analyzers.Selector.Selector_sel_leptons\n",
      "       99         100         3.68        3.65   0.6%   heppy.analyzers.IsolationAnalyzer.IsolationAnalyzer_1\n",
      "       99         100         0.04        0.03   0.0%   heppy.analyzers.Selector.Selector_sel_iso_leptons\n",
      "       99         100         0.09        0.09   0.0%   heppy.analyzers.ResonanceBuilder.ResonanceBuilder_1\n",
      "       99         100         0.06        0.06   0.0%   heppy.analyzers.RecoilBuilder.RecoilBuilder_recoil\n",
      "       99         100         0.33        0.33   0.1%   heppy.analyzers.RecoilBuilder.RecoilBuilder_missing_energy\n",
      "       99         100         0.05        0.05   0.0%   heppy.analyzers.Masker.Masker_1\n",
      "       99         100         2.26        2.23   0.3%   heppy.analyzers.fcc.JetClusterizer.JetClusterizer_1\n",
      "       99         100         0.19        0.18   0.0%   heppy.analyzers.ResonanceBuilder.ResonanceBuilder_2\n",
      "       99         100         0.04        0.03   0.0%   heppy.analyzers.examples.zh.selection.Selection_cuts\n",
      "       99         100         1.85        1.84   0.3%   heppy.analyzers.examples.zh.ZHTreeProducer.ZHTreeProducer_1\n",
      "       99         100         0.01        0.01   0.0%   heppy.analyzers.PapasDisplay.PapasDisplay_1\n",
      "---------    --------    ---------   ---------   -------------\n",
      "       99         100       644.64      638.13 100.0%   TOTAL\n",
      "\n",
      "Counter analyzers :\n",
      "\t heppy.analyzers.fcc.Reader.Reader_1                                100 \t 1.00 \t 1.0000\n",
      "\t heppy.analyzers.PDebugger.PDebugger_1                              100 \t 1.00 \t 1.0000\n",
      "\t heppy.analyzers.Selector.Selector_1                                100 \t 1.00 \t 1.0000\n",
      "\t heppy.analyzers.PapasSim.PapasSim_papas                             99 \t 0.99 \t 0.9900\n",
      "\t heppy.analyzers.PapasPFBlockBuilder.PapasPFBlockBuilder_1           99 \t 1.00 \t 0.9900\n",
      "\t heppy.analyzers.PapasPFReconstructor.PapasPFReconstructor_1         99 \t 1.00 \t 0.9900\n",
      "\t heppy.analyzers.Selector.Selector_sel_leptons                       99 \t 1.00 \t 0.9900\n",
      "\t heppy.analyzers.IsolationAnalyzer.IsolationAnalyzer_1               99 \t 1.00 \t 0.9900\n",
      "\t heppy.analyzers.Selector.Selector_sel_iso_leptons                   99 \t 1.00 \t 0.9900\n",
      "\t heppy.analyzers.ResonanceBuilder.ResonanceBuilder_1                 99 \t 1.00 \t 0.9900\n",
      "\t heppy.analyzers.RecoilBuilder.RecoilBuilder_recoil                  99 \t 1.00 \t 0.9900\n",
      "\t heppy.analyzers.RecoilBuilder.RecoilBuilder_missing_energy          99 \t 1.00 \t 0.9900\n",
      "\t heppy.analyzers.Masker.Masker_1                                     99 \t 1.00 \t 0.9900\n",
      "\t heppy.analyzers.fcc.JetClusterizer.JetClusterizer_1                 99 \t 1.00 \t 0.9900\n",
      "\t heppy.analyzers.ResonanceBuilder.ResonanceBuilder_2                 99 \t 1.00 \t 0.9900\n",
      "\t heppy.analyzers.examples.zh.selection.Selection_cuts                99 \t 1.00 \t 0.9900\n",
      "\t heppy.analyzers.examples.zh.ZHTreeProducer.ZHTreeProducer_1         99 \t 1.00 \t 0.9900\n",
      "\t heppy.analyzers.PapasDisplay.PapasDisplay_1                         99 \t 1.00 \t 0.9900\n",
      "\n"
     ]
    }
   ],
   "source": [
    "! heppy OutDir analysis_ee_ZH_cfg.py -N 300"
   ]
  },
  {
   "cell_type": "markdown",
   "metadata": {},
   "source": [
    "For your analysis, you will be able to use parallel processing, either on a multicore machine or on the CERN LSF cluster.\n",
    "\n",
    "You get an output directory `OutDir` . Check its contents and the contents of its subdirectories. "
   ]
  },
  {
   "cell_type": "code",
   "execution_count": 32,
   "metadata": {},
   "outputs": [
    {
     "name": "stdout",
     "output_type": "stream",
     "text": [
      "analysis_ee_ZH_cfg.py\r\n",
      "__cfg_to_run__.py\r\n",
      "component.pck\r\n",
      "config.pck\r\n",
      "heppy.analyzers.examples.zh.selection.Selection_cuts\r\n",
      "heppy.analyzers.examples.zh.ZHTreeProducer.ZHTreeProducer_1\r\n",
      "heppy.analyzers.fcc.JetClusterizer.JetClusterizer_1\r\n",
      "heppy.analyzers.fcc.Reader.Reader_1\r\n",
      "heppy.analyzers.IsolationAnalyzer.IsolationAnalyzer_1\r\n",
      "heppy.analyzers.Masker.Masker_1\r\n",
      "heppy.analyzers.PapasDisplay.PapasDisplay_1\r\n",
      "heppy.analyzers.PapasPFBlockBuilder.PapasPFBlockBuilder_1\r\n",
      "heppy.analyzers.PapasPFReconstructor.PapasPFReconstructor_1\r\n",
      "heppy.analyzers.PapasSim.PapasSim_papas\r\n",
      "heppy.analyzers.PDebugger.PDebugger_1\r\n",
      "heppy.analyzers.RecoilBuilder.RecoilBuilder_missing_energy\r\n",
      "heppy.analyzers.RecoilBuilder.RecoilBuilder_recoil\r\n",
      "heppy.analyzers.ResonanceBuilder.ResonanceBuilder_1\r\n",
      "heppy.analyzers.ResonanceBuilder.ResonanceBuilder_2\r\n",
      "heppy.analyzers.Selector.Selector_1\r\n",
      "heppy.analyzers.Selector.Selector_sel_iso_leptons\r\n",
      "heppy.analyzers.Selector.Selector_sel_leptons\r\n",
      "log.txt\r\n",
      "software.yaml\r\n"
     ]
    }
   ],
   "source": [
    "!ls OutDir/*"
   ]
  },
  {
   "cell_type": "markdown",
   "metadata": {},
   "source": [
    "In particular, the following root file contains an ntuple with the variables we need:\n",
    "\n",
    "```\n",
    "OutDir/ee_ZH_Zmumu_Hbb/heppy.analyzers.examples.zh.ZHTreeProducer.ZHTreeProducer_1/tree.root\n",
    "\n",
    "```"
   ]
  },
  {
   "cell_type": "markdown",
   "metadata": {},
   "source": [
    "### Make plots"
   ]
  },
  {
   "cell_type": "markdown",
   "metadata": {},
   "source": [
    "Open the root file containing the ntuple in root **through python**:"
   ]
  },
  {
   "cell_type": "code",
   "execution_count": 33,
   "metadata": {
    "collapsed": true
   },
   "outputs": [],
   "source": [
    "fname=\"OutDir/ee_ZH_Zmumu_Hbb/heppy.analyzers.examples.zh.ZHTreeProducer.ZHTreeProducer_1/tree.root\"\n",
    "\n",
    "f1 = ROOT.TFile(fname)"
   ]
  },
  {
   "cell_type": "markdown",
   "metadata": {},
   "source": [
    "Make a few plots:\n",
    "\n",
    "\n",
    "**reconstructed Z mass:**"
   ]
  },
  {
   "cell_type": "code",
   "execution_count": 7,
   "metadata": {},
   "outputs": [
    {
     "ename": "NameError",
     "evalue": "name 'ROOT' is not defined",
     "output_type": "error",
     "traceback": [
      "\u001b[0;31m\u001b[0m",
      "\u001b[0;31mNameError\u001b[0mTraceback (most recent call last)",
      "\u001b[0;32m<ipython-input-7-f1c18f7c129e>\u001b[0m in \u001b[0;36m<module>\u001b[0;34m()\u001b[0m\n\u001b[1;32m      1\u001b[0m \u001b[0;31m## reconstructed Z mass\u001b[0m\u001b[0;34m\u001b[0m\u001b[0;34m\u001b[0m\u001b[0m\n\u001b[0;32m----> 2\u001b[0;31m \u001b[0mc1\u001b[0m \u001b[0;34m=\u001b[0m \u001b[0mROOT\u001b[0m\u001b[0;34m.\u001b[0m\u001b[0mTCanvas\u001b[0m\u001b[0;34m(\u001b[0m\u001b[0;34m)\u001b[0m\u001b[0;34m\u001b[0m\u001b[0m\n\u001b[0m\u001b[1;32m      3\u001b[0m \u001b[0mf1\u001b[0m\u001b[0;34m.\u001b[0m\u001b[0mevents\u001b[0m\u001b[0;34m.\u001b[0m\u001b[0mDraw\u001b[0m\u001b[0;34m(\u001b[0m\u001b[0;34m\"zed_m\"\u001b[0m\u001b[0;34m)\u001b[0m\u001b[0;34m\u001b[0m\u001b[0m\n\u001b[1;32m      4\u001b[0m \u001b[0mc1\u001b[0m\u001b[0;34m.\u001b[0m\u001b[0mDraw\u001b[0m\u001b[0;34m(\u001b[0m\u001b[0;34m)\u001b[0m\u001b[0;34m\u001b[0m\u001b[0m\n",
      "\u001b[0;31mNameError\u001b[0m: name 'ROOT' is not defined"
     ]
    }
   ],
   "source": [
    "c1 = ROOT.TCanvas()\n",
    "f1.events.Draw(\"zed_m\")\n",
    "c1.Draw()"
   ]
  },
  {
   "cell_type": "markdown",
   "metadata": {},
   "source": [
    "**recoil mass:**"
   ]
  },
  {
   "cell_type": "code",
   "execution_count": 35,
   "metadata": {},
   "outputs": [
    {
     "data": {
      "image/png": "[encoded data removed]",
      "text/plain": [
       "<IPython.core.display.Image object>"
      ]
     },
     "metadata": {},
     "output_type": "display_data"
    }
   ],
   "source": [
    "c1 = ROOT.TCanvas() \n",
    "f1.events.Draw(\"recoil_m\", \"zed_m>80\")\n",
    "c1.Draw()"
   ]
  },
  {
   "cell_type": "markdown",
   "metadata": {},
   "source": [
    "**dijet mass (note that jets have not been calibrated, using raw jets here):**"
   ]
  },
  {
   "cell_type": "code",
   "execution_count": 36,
   "metadata": {},
   "outputs": [
    {
     "data": {
      "image/png": "[encoded data removed]",
      "text/plain": [
       "<IPython.core.display.Image object>"
      ]
     },
     "metadata": {},
     "output_type": "display_data"
    }
   ],
   "source": [
    "c1 = ROOT.TCanvas() \n",
    "f1.events.Draw(\"higgs_m\", \"zed_m>80\")\n",
    "c1.Draw()\n"
   ]
  },
  {
   "cell_type": "markdown",
   "metadata": {},
   "source": [
    "### More information\n",
    "\n",
    "Please refer to the [heppy documentation](https://github.com/HEP-FCC/heppy/blob/master/README.md)"
   ]
  },
  {
   "cell_type": "markdown",
   "metadata": {},
   "source": [
    "\n",
    "## Getting started with Delphes (FCC-hh)\n"
   ]
  },
  {
   "cell_type": "markdown",
   "metadata": {},
   "source": [
    "In this tutorial, you will learn how to:\n",
    "\n",
    "-   generate events with Pythia8, process them through Delphes with\n",
    "    FCCSW and write them in the FCC EDM format.\n",
    "-   read these events with [heppy](https://github.com/HEP-FCC/heppy.git) to perfom basic selection and create an\n",
    "    ntuple\n",
    "-   read this ntuple with ROOT to make a few plots\n",
    "\n",
    "\n",
    "### Run FCCSW with Pythia8+Delphes\n",
    "\n",
    "Now you are ready to produce 100TeV ttbar events with Pythia, process them through Delphes and store them in the FCC-EDM:"
   ]
  },
  {
   "cell_type": "markdown",
   "metadata": {},
   "source": [
    " ./run gaudirun.py Sim/SimDelphesInterface/options/PythiaDelphes_config.py"
   ]
  },
  {
   "cell_type": "markdown",
   "metadata": {},
   "source": [
    "you should obtain a file called `FCCDelphesOutput.root`.\n",
    "\n",
    "This example will run 100 events by default. To have more events for plotting purposes, you can increase this number or use files that have been already produced and stored on eos (see next section).\n",
    "\n",
    "With this file you are now ready to run the analysis framework [heppy](https://github.com/HEP-FCC/heppy.git).\n",
    "\n",
    "\n",
    "### Run the analysis in heppy\n",
    "\n",
    "If not already done install the heppy package [Installation](#installation)\n",
    "Edit the ttbar example of [heppy](https://github.com/HEP-FCC/heppy.git):\n",
    "\n",
    "    heppy/test/analysis_hh_ttbar_cfg.py\n",
    "\n",
    "and use the file you produced running FCCSW previously\n",
    "`FCCDelphesOutput.root` in the `files` list in line 13. If\n",
    "you skip this step, the example will use files already produced and stored on eos, so\n",
    "you will need to setup eos:\n",
    "\n",
    "    export EOS_MGM_URL=\"root://eospublic.cern.ch\"\n",
    "\n",
    "Now you are ready to run the ttbar example:\n",
    "\n",
    "    cd test\n",
    "    heppy myoutput analysis_hh_ttbar_cfg.py\n",
    "\n",
    "You get an output directory `myoutput` . Check its contents and the\n",
    "contents of its subdirectories. In particular, the following root file\n",
    "contains an ntuple with the variables we need:\n",
    "\n",
    "    myoutput/example/heppy.analyzers.examples.ttbar.TTbarTreeProducer.TTbarTreeProducer_1/tree.root \n",
    "\n",
    "\n",
    "### Make plots\n",
    "\n",
    "Open the root file containing the ntuple in root:\n",
    "\n",
    "    root myoutput/example/heppy.analyzers.examples.ttbar.TTbarTreeProducer.TTbarTreeProducer_1/tree.root\n",
    "\n",
    "Make a few plots:\n",
    "\n",
    "**reconstructed W leptonic transverse mass:**\n",
    "\n",
    "    events->Draw(\"mtw\")\n",
    "\n",
    "![Wt mass](./images/FccSoftwareGettingStartedFastSim/mtw.png)\n",
    "\n",
    "\n",
    "### CutFlow\n",
    "\n",
    "The file\n",
    "\n",
    "    myoutput/example/heppy.analyzers.examples.ttbar.selection.Selection_cuts/cut_flow.txt \n",
    "\n",
    "contains a cut flow\n",
    "\n",
    "```\n",
    "Counter cut_flow :\n",
    "\t All events                                   10000 \t 1.00 \t 1.0000\n",
    "\t At least 4 jets                               8170 \t 0.82 \t 0.8170\n",
    "\t At least 1 b-jet                              7153 \t 0.88 \t 0.7153\n",
    "\t Exactly 1 lepton                              1303 \t 0.18 \t 0.1303\n",
    "\t MET > 20GeV                                   1202 \t 0.92 \t 0.1202\n",
    "```\n",
    "\n",
    "The first column represents the cut, the second one the raw number of events, \n",
    "the third one the efficiency of the cut, and the last one the overall efficiency."
   ]
  }
 ],
 "metadata": {
  "kernelspec": {
   "display_name": "Python 2",
   "language": "python",
   "name": "python2"
  },
  "language_info": {
   "codemirror_mode": {
    "name": "ipython",
    "version": 2
   },
   "file_extension": ".py",
   "mimetype": "text/x-python",
   "name": "python",
   "nbconvert_exporter": "python",
   "pygments_lexer": "ipython2",
   "version": "2.7.13"
  }
 },
 "nbformat": 4,
 "nbformat_minor": 2
}
