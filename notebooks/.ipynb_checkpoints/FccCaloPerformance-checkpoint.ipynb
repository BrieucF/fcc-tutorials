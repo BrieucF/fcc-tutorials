{
 "cells": [
  {
   "cell_type": "markdown",
   "metadata": {},
   "source": [
    "# FCC Calorimeter Performance Studies Workflow\n",
    "\n",
    "## Overview\n",
    "\n",
    "This tutorial will teach you how to:\n",
    "\n",
    "* **simulate** the single particle response of the calorimeter detector system\n",
    "* **reconstruct** physics object from raw signals\n",
    "* produce **plots** of energy resolutions and other quantities.\n",
    "\n",
    "First, make sure your setup of the FCC software is working. \n",
    "You can check that the command to run jobs in the Gaudi framework is available on the command line:"
   ]
  },
  {
   "cell_type": "code",
   "execution_count": 1,
   "metadata": {
    "lines_to_next_cell": 0
   },
   "outputs": [
    {
     "name": "stdout",
     "output_type": "stream",
     "text": [
      "/usr/local/scripts//fccrun\r\n"
     ]
    }
   ],
   "source": [
    "!which fccrun"
   ]
  },
  {
   "cell_type": "markdown",
   "metadata": {},
   "source": [
    "If you don't see a valid path like `/usr/local/bin/fccrun`  you should consult [the documentation page on FCCSW setup](https://github.com/vvolkl/fcc-tutorials/blob/master/FccSoftwareGettingStarted.md)\n",
    "\n",
    "## Using the DD4hep detector model in FCC Software.\n",
    "\n",
    "The Geant4 geometry is used for the full simulation of the detector is not written directly, but generated using the DD4hep library.\n",
    "The detector description in this library consists of two parts:\n",
    "A compiled C++ library that constructs the geometry, and a set of xml files that contain parameters that can are parsed by the library at runtime and make the detector geometry (somewhat) configurable.\n",
    "In the framework, the geometry is available to all components via the service `GeoSvc`.\n",
    "One of the simplest jobs is to write the geometry to a `.gdml` file:"
   ]
  },
  {
   "cell_type": "code",
   "execution_count": 5,
   "metadata": {},
   "outputs": [
    {
     "name": "stdout",
     "output_type": "stream",
     "text": [
      "Overwriting dumpGeo_fccee.py\n"
     ]
    }
   ],
   "source": [
    "%%writefile dumpGeo_fccee.py\n",
    "\n",
    "import os\n",
    "from Gaudi.Configuration import *\n",
    "from Configurables import GeoSvc\n",
    "geoservice = GeoSvc(\"GeoSvc\")\n",
    "geoservice.detectors=[\n",
    "\tos.path.join(os.environ.get(\"FCC_DETECTORS\"), 'Detector/DetFCCeeIDEA/compact/FCCee_DectEmptyMaster.xml'),\n",
    "  os.path.join(os.environ.get(\"FCC_DETECTORS\"), 'Detector/DetFCCeeIDEA/compact/FCCee_DectMaster.xml'),\n",
    "                                         ]\n",
    "\n",
    "from Configurables import SimG4Svc\n",
    "geantservice = SimG4Svc(\"SimG4Svc\")\n",
    "\n",
    "from Configurables import GeoToGdmlDumpSvc\n",
    "geodumpservice = GeoToGdmlDumpSvc(\"GeoDump\") \n",
    "geodumpservice.gdml=\"FCCee_IDEA.gdml\"\n",
    "\n",
    "from Configurables import ApplicationMgr\n",
    "ApplicationMgr( TopAlg = [], \n",
    "                EvtSel = 'NONE',\n",
    "                EvtMax   = 1,\n",
    "                # order is important, as GeoSvc is needed by SimG4Svc\n",
    "                ExtSvc = [geoservice, geantservice, geodumpservice],\n",
    "                OutputLevel=DEBUG\n",
    " )\n"
   ]
  },
  {
   "cell_type": "markdown",
   "metadata": {},
   "source": [
    "A job with this configuration can be executed with "
   ]
  },
  {
   "cell_type": "code",
   "execution_count": 4,
   "metadata": {},
   "outputs": [
    {
     "name": "stdout",
     "output_type": "stream",
     "text": [
      "Traceback (most recent call last):\r\n",
      "  File \"/usr/local/scripts//fccrun\", line 33, in <module>\r\n",
      "    execfile(f)\r\n",
      "  File \"dumpGeo_fccee.py\", line 7, in <module>\r\n",
      "    os.path.join(os.environ[\"FCC_DETECTORS\"], 'Detector/DetFCCeeIDEA/compact/FCCee_DectEmptyMaster.xml'),\r\n",
      "  File \"/usr/lib/python2.7/UserDict.py\", line 40, in __getitem__\r\n",
      "    raise KeyError(key)\r\n",
      "KeyError: 'FCC_DETECTORS'\r\n"
     ]
    }
   ],
   "source": [
    "!fccrun dumpGeo_fccee.py"
   ]
  },
  {
   "cell_type": "markdown",
   "metadata": {},
   "source": [
    "Note the printout of the GeoSvc and make sure the information is as expected. If there is something unclear or missing make sure to open an [issue](https://github.com/HEP-FCC/FCCSW/issues)!\n",
    "Take a look at the resulting gdml file. Although it is text-based it is not really human-readable for a geometry of this size, but you can check the number of lines and volume names if you are familiar with the geometry."
   ]
  },
  {
   "cell_type": "code",
   "execution_count": null,
   "metadata": {},
   "outputs": [],
   "source": [
    "!tail FCCee_IDEA.gdml"
   ]
  },
  {
   "cell_type": "markdown",
   "metadata": {},
   "source": [
    "## Running Geant4 within the FCC Software Framework\n",
    "\n",
    "To run Geant4, a number of additional components are required, foremost the `SimG4Alg` and `SimG4Svc`.\n",
    "The simplest way to generate a particle to simulate is to use one of the particle guns (`GenAlg` with the `MomentumRangeParticleGun` tool for example).\n",
    "This algorithm produces a particles with energies from a flat probability distribution in HepMC format.\n",
    "To use them as input they first need to be converted to the FCC event data model (`HepMCToEDMConverter`) and piped into the Geant4 interface via the `SimG4PrimariesFromEdmTool`.\n",
    "\n",
    "A configuration that runs all of this is distributed with FCCSW\n"
   ]
  },
  {
   "cell_type": "raw",
   "metadata": {},
   "source": [
    "!fccrun  $FCCSWBASEDIR/Reconstruction/RecFCCeeCalorimeter/options/runCaloSim.py --filename fccee_idea_LAr_pgun.root -n 500 "
   ]
  },
  {
   "cell_type": "markdown",
   "metadata": {},
   "source": [
    "The output of this job is `fccee_idea_LAr_pgun.root`, a ROOT file containing the simulation products of 500 single particle events (5 Gev e-) in the FCC event data model.\n",
    "Check for example that the distribution of the input particles is as you expect:"
   ]
  },
  {
   "cell_type": "code",
   "execution_count": null,
   "metadata": {},
   "outputs": [],
   "source": [
    "import ROOT\n",
    "f = ROOT.TFile(\"fccee_idea_LAr_pgun.root\")\n",
    "events = f.Get(\"events\")\n",
    "c = ROOT.TCanvas()\n",
    "events.Draw(\"sqrt(pow(GenParticles.core.p4.px,2) + pow(GenParticles.core.p4.py,2) +pow(GenParticles.core.p4.pz,2))\")\n",
    "\n"
   ]
  },
  {
   "cell_type": "markdown",
   "metadata": {},
   "source": [
    "The exact position of the energy deposit is available too:"
   ]
  },
  {
   "cell_type": "code",
   "execution_count": null,
   "metadata": {
    "lines_to_next_cell": 2
   },
   "outputs": [],
   "source": [
    "\n",
    "import ROOT\n",
    "f = ROOT.TFile(\"fccee_idea_LAr_pgun.root\")\n",
    "events = f.Get(\"events\")\n",
    "c = ROOT.TCanvas()\n",
    "events.Draw(\"ECalBarrelPositions.position.y:ECalBarrelPositions.position.x\", \"\", \"\", 5, 0)"
   ]
  },
  {
   "cell_type": "markdown",
   "metadata": {},
   "source": [
    "### Obtaining and Plotting the Energy Resolution\n",
    "\n",
    "Now that the detector response is simulated, it is time to reconstruct the signals. FCCSW includes another configuration to run a Sliding Window reconstruction:"
   ]
  },
  {
   "cell_type": "code",
   "execution_count": null,
   "metadata": {},
   "outputs": [],
   "source": [
    "!fccrun $FCCSWBASEDIR/Reconstruction/RecFCCeeCalorimeter/options/runFullCaloSystem_ReconstructionSW_noiseFromFile.py --inputs fcc_idea_LAr_pgun.root -n 500"
   ]
  },
  {
   "cell_type": "markdown",
   "metadata": {},
   "source": [
    "This configuration inludes electronics noise especially calculated for this detector geometry.\n",
    "\n",
    "TODO: Plotting scripts\n",
    "\n",
    "### Further Topics: Calculating the Sampling Fraction and using it in Simulation\n",
    "\n",
    "TODO\n",
    "\n",
    "\n",
    "\n",
    "\n",
    "\n",
    "\n",
    "\n",
    "\n"
   ]
  }
 ],
 "metadata": {
  "jupytext": {
   "main_language": "python",
   "text_representation": {
    "extension": ".md",
    "format_name": "markdown"
   }
  },
  "kernelspec": {
   "display_name": "Python 3",
   "language": "python",
   "name": "python3"
  },
  "language_info": {
   "codemirror_mode": {
    "name": "ipython",
    "version": 3
   },
   "file_extension": ".py",
   "mimetype": "text/x-python",
   "name": "python",
   "nbconvert_exporter": "python",
   "pygments_lexer": "ipython3",
   "version": "3.6.8"
  }
 },
 "nbformat": 4,
 "nbformat_minor": 2
}
