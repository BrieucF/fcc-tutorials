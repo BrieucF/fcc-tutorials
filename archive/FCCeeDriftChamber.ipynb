{
 "cells": [
  {
   "cell_type": "markdown",
   "metadata": {
    "collapsed": true
   },
   "source": [
    "# FCCee: Full Simulation of IDEA Driftchamber\n",
    "\n",
    "\n",
    "-   [Overview](#overview)\n",
    "-   [Generate and Simulate Events](#generate-events)\n",
    "-   [Analyze Events](#analyze-events)\n",
    "-   [Plot events](#plot-events)\n",
    "-   [Homework exercise](#homework-exercise)\n",
    "\n",
    "\n",
    "## Overview\n",
    "---------------------\n",
    "\n",
    "-   visualize and use the Driftchamber model in FCCSW\n",
    "-   simulate the particle passage in Geant4\n",
    "-   run digitization and get wire signal\n",
    "-   run Hough Transform for a first track reconstruction\n",
    "-   produce plots\n",
    "\n",
    "## Part I: Simulations with the IDEA detector model in  FCCSW\n",
    "----------------------------------------------------\n",
    "\n",
    "This tutorial is based on the FCC Note http://cds.cern.ch/record/2670936 and describes the use of the FCCee IDEA Driftchamber in the FCC software framework."
   ]
  },
  {
   "cell_type": "code",
   "execution_count": null,
   "metadata": {
    "scrolled": true
   },
   "outputs": [],
   "source": [
    "import ROOT\n",
    "ROOT.enableJSVis()"
   ]
  },
  {
   "cell_type": "code",
   "execution_count": null,
   "metadata": {},
   "outputs": [],
   "source": [
    "# Unfortunately this way of displaying the detector won't work until dd4hep v1-11 is installed in LCG releases\n",
    "# In the meantime, find a similar display here: http://hep-fcc.github.io/FCCSW/geo/geo-ee.html \n",
    "\n",
    "# load the dd4hep detector model\n",
    "#import dd4hep\n",
    "#import os\n",
    "#fcc_det_path = os.path.join(os.environ.get(\"FCC_DETECTORS\", \"\"), \"share/FCCSW/Detector/DetFCCeeIDEA/compact/FCCee_DectMaster.xml\")\n",
    "#print fcc_det_path\n",
    "#description = dd4hep.Detector.getInstance()\n",
    "#description.fromXML(fcc_det_path)"
   ]
  },
  {
   "cell_type": "code",
   "execution_count": null,
   "metadata": {},
   "outputs": [],
   "source": [
    "#c = ROOT.TCanvas(\"c_detector_display\", \"\", 600,600)\n",
    "#description.manager().SetVisLevel(6)\n",
    "#description.manager().SetVisOption(1)\n",
    "#vol = description.manager().GetTopVolume()\n",
    "#vol.Draw()\n"
   ]
  },
  {
   "cell_type": "code",
   "execution_count": null,
   "metadata": {},
   "outputs": [],
   "source": [
    "!ls $FCCSWBASEDIR/share/FCCSW/Detector/DetFCCeeIDEA/compact"
   ]
  },
  {
   "cell_type": "markdown",
   "metadata": {},
   "source": [
    "From the detector display or the command line, check that the detector subsystems are as you would expect them  from the specifications in the Conceptual Design Report.\n",
    "\n"
   ]
  },
  {
   "cell_type": "code",
   "execution_count": null,
   "metadata": {},
   "outputs": [],
   "source": [
    "!fccrun $FCCSWBASEDIR/share/FCCSW/Examples/options/geant_fullsim_fccee_pgun.py --detectors $FCCSWBASEDIR/share/FCCSW/Detector/DetFCCeeIDEA/compact/FCCee_DectMaster.xml --etaMin -3.5 --etaMax 3.5 -n 20000"
   ]
  },
  {
   "cell_type": "markdown",
   "metadata": {},
   "source": [
    "You can see the created files:"
   ]
  },
  {
   "cell_type": "code",
   "execution_count": null,
   "metadata": {},
   "outputs": [],
   "source": [
    "import ROOT\n",
    "f = ROOT.TFile(\"root://eospublic.cern.ch//eos/experiment/fcc/ee/tutorial/fccee_idea_pgun.root\")\n",
    "events = f.Get(\"events\")\n",
    "\n",
    "c = ROOT.TCanvas(\"c_positionedHits_DCH_xy\", \"\", 700, 600)\n",
    "# draw hits for first five events\n",
    "events.Draw(\"positionedHits_DCH.position.x:positionedHits_DCH.position.y\", \"\", \"\", 10, 0)\n",
    "c.Draw()"
   ]
  },
  {
   "cell_type": "code",
   "execution_count": null,
   "metadata": {},
   "outputs": [],
   "source": [
    "%%writefile mergeDCHits.py\n",
    "import os\n",
    "from Gaudi.Configuration import *\n",
    "\n",
    "\n",
    "import GaudiKernel.SystemOfUnits as units\n",
    "from Configurables import ApplicationMgr, FCCDataSvc, PodioOutput\n",
    "\n",
    "podioevent   = FCCDataSvc(\"EventDataSvc\", input=\"root://eospublic.cern.ch//eos/experiment/fcc/ee/tutorial/fccee_idea_pgun.root\")\n",
    "\n",
    "from Configurables import PodioInput, ReadTestConsumer\n",
    "podioinput = PodioInput(\"PodioReader\", collections=[\"positionedHits_DCH\"], OutputLevel=DEBUG)\n",
    "# Parses the given xml file\n",
    "from Configurables import GeoSvc\n",
    "geoservice = GeoSvc(\"GeoSvc\", detectors=[os.environ.get(\"FCC_DETECTORS\", \"\") + '/share/FCCSW/Detector/DetFCCeeIDEA/compact/FCCee_DectMaster.xml',])\n",
    "\n",
    "from Configurables import CreateDCHHits\n",
    "createhits = CreateDCHHits(\"CreateDCHHits\",\n",
    "                           readoutName = \"DriftChamberCollection\",\n",
    "                           EdepCut = 100*1e-9,\n",
    "                           DCACut = 0.8,\n",
    "                           OutputLevel=INFO)\n",
    "\n",
    "createhits.positionedHits.Path = \"positionedHits_DCH\"\n",
    "createhits.mergedHits.Path = \"merged_DCH\"\n",
    "\n",
    "from Configurables import PodioOutput\n",
    "out = PodioOutput(\"out\")\n",
    "out.OutputLevel=DEBUG\n",
    "out.outputCommands = [\"keep *\"]\n",
    "out.filename=\"mergedDCHits.root\"\n",
    "\n",
    "\n",
    "ApplicationMgr( TopAlg = [\n",
    "                          podioinput, \n",
    "                          createhits, \n",
    "                          out, \n",
    "                          ],\n",
    "                EvtSel = 'NONE',\n",
    "                EvtMax   = 20000,\n",
    "                ExtSvc = [podioevent, geoservice ],\n",
    "                OutputLevel = INFO\n",
    " )\n",
    "\n"
   ]
  },
  {
   "cell_type": "code",
   "execution_count": null,
   "metadata": {},
   "outputs": [],
   "source": [
    "!fccrun mergeDCHits.py"
   ]
  },
  {
   "cell_type": "code",
   "execution_count": null,
   "metadata": {},
   "outputs": [],
   "source": [
    "!rootls -t mergedDCHits.root"
   ]
  },
  {
   "cell_type": "markdown",
   "metadata": {},
   "source": [
    "By now, we have produced the two files `fccee_idea_pgun.root` and `mergedDCHits.root`.\n",
    "You can try to put them in a \"test\" folder on the shared disk space on eos.\n",
    "The files can already be found under the path `/eos/experiment/fcc/ee/tutorial`.\n",
    "To use files on eos, you can simply prepend `root://eospublic.cern.ch//eos/experiment/fcc/ee/tutorial/`  when using TFile, or use `xrdcp root://eospublic.cern.ch/<path on eos> <local file name>`\n",
    "And again, check that your files are present in your current directory:"
   ]
  },
  {
   "cell_type": "code",
   "execution_count": null,
   "metadata": {},
   "outputs": [],
   "source": [
    "! xrdcp root://eospublic.cern.ch//eos/experiment/fcc/ee/tutorial/mergedDCHits.root mergedDCHits3.root"
   ]
  },
  {
   "cell_type": "code",
   "execution_count": null,
   "metadata": {},
   "outputs": [],
   "source": [
    "import ROOT\n",
    "f = ROOT.TFile(\"root://eospublic.cern.ch//eos/experiment/fcc/ee/tutorial/mergedDCHits.root\")\n",
    "events = f.Get(\"events\")\n",
    "\n",
    "\n",
    "# draw hits for first five events\n",
    "events.Draw(\"DCHitInfo.hit_start.Perp():DCHitInfo.hit_start.z()\", \"DCHitInfo.layerId==5&&DCHitInfo.wireId==7\", \"\")\n",
    "c = ROOT.TCanvas(\"c_DCH_xy\", \"\", 700, 600)\n",
    "g = ROOT.TGraph(events.GetSelectedRows(), events.GetV2(), events.GetV1())\n",
    "g.SetMarkerStyle(4)\n",
    "g.SetTitle(\"DriftChamber Hits on one Wire;x;z\")\n",
    "g.Draw(\"AP\")\n",
    "\n",
    "c.Draw()"
   ]
  },
  {
   "cell_type": "code",
   "execution_count": null,
   "metadata": {},
   "outputs": [],
   "source": [
    "import ROOT\n",
    "import numpy as np\n",
    "f = ROOT.TFile(\"mergedDCHits.root\")\n",
    "events = f.Get(\"events\")\n",
    "\n",
    "\n",
    "c = ROOT.TCanvas(\"c_DCH_id\", \"\", 700, 600)\n",
    "events.Draw(\"DCHitInfo.hit_start.x():DCHitInfo.hit_start.y()\", \"\", \"\")\n",
    "dat_x = events.GetV1()\n",
    "dat_y = events.GetV2()\n",
    "x = []\n",
    "y = []\n",
    "for i in range(events.GetSelectedRows()):\n",
    "    x.append(dat_x[i])\n",
    "    y.append(dat_y[i])\n",
    "    \n",
    "events.Draw(\"DCHitInfo.hit_start.z():DCHitInfo.hit_start.z()\", \"\", \"\")\n",
    "dat_z = events.GetV1()\n",
    "\n",
    "z = []\n",
    "for i in range(events.GetSelectedRows()):\n",
    "    z.append(dat_z[i])\n",
    "    \n",
    "events.Draw(\"DCHitInfo.wireId:DCHitInfo.layerId\", \"\", \"\")\n",
    "dat_wid = events.GetV1()\n",
    "dat_lid = events.GetV2()\n",
    "wid = []\n",
    "lid = []\n",
    "for i in range(events.GetSelectedRows()):\n",
    "    lid.append(dat_lid[i])\n",
    "    wid.append(dat_wid[i])\n",
    "\n",
    "c.Draw()\n",
    "\n",
    "lid = np.array(lid)\n",
    "wid = np.array(wid)\n",
    "x = np.array(x)\n",
    "y = np.array(y)\n",
    "z = np.array(z)"
   ]
  },
  {
   "cell_type": "code",
   "execution_count": null,
   "metadata": {
    "scrolled": true
   },
   "outputs": [],
   "source": [
    "%matplotlib notebook\n",
    "import matplotlib.pyplot as plt\n",
    "from mpl_toolkits.mplot3d import Axes3D\n",
    "fig = plt.figure()\n",
    "ax = fig.add_subplot(111, projection='3d')\n",
    "for i  in range(500):\n",
    "    cond = (lid ==1 )  * (wid == i)\n",
    "    f_x = x[cond]\n",
    "    f_y = y[cond]\n",
    "    f_z = z[cond]\n",
    "    ax.scatter(f_x, f_y, f_z)\n",
    "plt.show()"
   ]
  },
  {
   "cell_type": "markdown",
   "metadata": {},
   "source": [
    "# Part II: Basic Reconstruction with a Hough-Transform\n",
    "\n",
    "Go back to the note mentioned in the beginning: http://cds.cern.ch/record/2670936 It uses the Hough-Transform, a simple but very effective Reconstruction method for this type of detector. Some python codes implementing it can be found in this repository: https://github.com/HEP-FCC/HoughTransform\n",
    "Try to reproduce the results. Background events stored on eos under `/eos/experiment/fcc/ee/generation/GUINEA-PIG/` can be read with this job options file: https://github.com/HEP-FCC/FCCSW/blob/master/Examples/options/geant_fullsim_fccee_hepevt.py."
   ]
  },
  {
   "cell_type": "code",
   "execution_count": null,
   "metadata": {},
   "outputs": [],
   "source": []
  }
 ],
 "metadata": {
  "kernelspec": {
   "display_name": "Python 2",
   "language": "python",
   "name": "python2"
  },
  "language_info": {
   "codemirror_mode": {
    "name": "ipython",
    "version": 2
   },
   "file_extension": ".py",
   "mimetype": "text/x-python",
   "name": "python",
   "nbconvert_exporter": "python",
   "pygments_lexer": "ipython2",
   "version": "2.7.16"
  }
 },
 "nbformat": 4,
 "nbformat_minor": 2
}
