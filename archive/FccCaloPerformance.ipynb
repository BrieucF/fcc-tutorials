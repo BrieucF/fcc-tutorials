{
 "cells": [
  {
   "cell_type": "markdown",
   "metadata": {},
   "source": [
    "# FCC Calorimeter Performance Studies Workflow\n",
    "\n",
    "## Overview\n",
    "\n",
    "This tutorial will teach you how to:\n",
    "\n",
    "* **simulate** the single particle response of the calorimeter detector system\n",
    "* **reconstruct** physics object from raw signals\n",
    "* produce **plots** of energy resolutions and other quantities.\n",
    "\n",
    "First, make sure your setup of the FCC software is working. \n",
    "You can check that the command to run jobs in the Gaudi framework is available on the command line:"
   ]
  },
  {
   "cell_type": "code",
   "execution_count": null,
   "metadata": {
    "lines_to_next_cell": 0
   },
   "outputs": [],
   "source": [
    "!which fccrun"
   ]
  },
  {
   "cell_type": "markdown",
   "metadata": {},
   "source": [
    "If you don't see a valid path like `/usr/local/bin/fccrun`  you should consult [the documentation page on FCCSW setup](https://github.com/vvolkl/fcc-tutorials/blob/master/FccSoftwareGettingStarted.md)\n",
    "\n",
    "## Using the DD4hep detector model in FCC Software.\n",
    "\n",
    "The Geant4 geometry is used for the full simulation of the detector is not written directly, but generated using the DD4hep library.\n",
    "The detector description in this library consists of two parts:\n",
    "A compiled C++ library that constructs the geometry, and a set of xml files that contain parameters that can are parsed by the library at runtime and make the detector geometry (somewhat) configurable.\n",
    "In the framework, the geometry is available to all components via the service `GeoSvc`.\n",
    "One of the simplest jobs is to write the geometry to a `.gdml` file:"
   ]
  },
  {
   "cell_type": "code",
   "execution_count": null,
   "metadata": {},
   "outputs": [],
   "source": [
    "%%writefile dumpGeo_fccee.py\n",
    "\n",
    "import os\n",
    "from Gaudi.Configuration import *\n",
    "from Configurables import GeoSvc\n",
    "geoservice = GeoSvc(\"GeoSvc\")\n",
    "geoservice.detectors=[\n",
    "  os.path.join(os.environ.get(\"FCC_DETECTORS\", \"\"), 'share/FCCSW/Detector/DetFCCeeIDEA/compact/FCCee_DectMaster.xml'),\n",
    "                    ]\n",
    "\n",
    "from Configurables import SimG4Svc\n",
    "geantservice = SimG4Svc(\"SimG4Svc\")\n",
    "\n",
    "from Configurables import GeoToGdmlDumpSvc\n",
    "geodumpservice = GeoToGdmlDumpSvc(\"GeoDump\") \n",
    "geodumpservice.gdml=\"FCCee_IDEA.gdml\"\n",
    "\n",
    "from Configurables import ApplicationMgr\n",
    "ApplicationMgr( TopAlg = [], \n",
    "                EvtSel = 'NONE',\n",
    "                EvtMax   = 1,\n",
    "                # order is important, as GeoSvc is needed by SimG4Svc\n",
    "                ExtSvc = [geoservice, geantservice, geodumpservice],\n",
    "                OutputLevel=INFO\n",
    " )\n"
   ]
  },
  {
   "cell_type": "markdown",
   "metadata": {},
   "source": [
    "A job with this configuration can be executed with "
   ]
  },
  {
   "cell_type": "code",
   "execution_count": null,
   "metadata": {},
   "outputs": [],
   "source": [
    "!fccrun dumpGeo_fccee.py"
   ]
  },
  {
   "cell_type": "markdown",
   "metadata": {},
   "source": [
    "Note the printout of the GeoSvc and make sure the information is as expected. If there is something unclear or missing make sure to open an [issue](https://github.com/HEP-FCC/FCCSW/issues)!\n",
    "Take a look at the resulting gdml file. Although it is text-based it is not really human-readable for a geometry of this size, but you can check the number of lines and volume names if you are familiar with the geometry."
   ]
  },
  {
   "cell_type": "code",
   "execution_count": null,
   "metadata": {},
   "outputs": [],
   "source": [
    "!tail FCCee_IDEA.gdml"
   ]
  },
  {
   "cell_type": "code",
   "execution_count": null,
   "metadata": {},
   "outputs": [],
   "source": [
    "# count occurences of \"physvol\"\n",
    "!grep -c \"<physvol\" FCCee_IDEA.gdml"
   ]
  },
  {
   "cell_type": "markdown",
   "metadata": {},
   "source": [
    "## Running Geant4 within the FCC Software Framework\n",
    "\n",
    "To run Geant4, a number of additional components are required, foremost the `SimG4Alg` and `SimG4Svc`.\n",
    "The simplest way to generate a particle to simulate is to use one of the particle guns (`GenAlg` with the `MomentumRangeParticleGun` tool for example).\n",
    "This algorithm produces a particles with energies from a flat probability distribution in HepMC format.\n",
    "To use them as input they first need to be converted to the FCC event data model (`HepMCToEDMConverter`) and piped into the Geant4 interface via the `SimG4PrimariesFromEdmTool`.\n",
    "\n",
    "A configuration that runs all of this is distributed with FCCSW and can be run with the following command:\n",
    "\n",
    "(This simulates the response of 5GeV electrons which makes for modest shower sizes and should produce 500 events in around 2 minutes)\n"
   ]
  },
  {
   "cell_type": "code",
   "execution_count": null,
   "metadata": {},
   "outputs": [],
   "source": [
    "! FCC_DETECTORS=$FCCSWBASEDIR/share/FCCSW; time fccrun  $FCCSWBASEDIR/share/FCCSW/RecFCCeeCalorimeter/options/runCaloSim.py --filename fccee_idea_LAr_pgun.root -n 500 "
   ]
  },
  {
   "cell_type": "markdown",
   "metadata": {},
   "source": [
    "The output of this job is `fccee_idea_LAr_pgun.root`, a ROOT file containing the simulation products of 500 single particle events (5 Gev e-) in the FCC event data model.\n",
    "Check for example that the distribution of the input particles is as you expect:"
   ]
  },
  {
   "cell_type": "code",
   "execution_count": null,
   "metadata": {},
   "outputs": [],
   "source": [
    "import ROOT\n",
    "f = ROOT.TFile(\"fccee_idea_LAr_pgun.root\")\n",
    "events = f.Get(\"events\")\n",
    "c = ROOT.TCanvas(\"canvas1\", \"\",600, 400)\n",
    "h = ROOT.TH1F(\"h_GenParticles_P\", \";Primary particle Momentum P; Events\", 100, 0 ,100)\n",
    "events.Draw(\"sqrt(pow(GenParticles.core.p4.px,2) + pow(GenParticles.core.p4.py,2) +pow(GenParticles.core.p4.pz,2))>>h_GenParticles_P\")\n",
    "c.Draw()\n"
   ]
  },
  {
   "cell_type": "markdown",
   "metadata": {},
   "source": [
    "The exact position of the energy deposit is available too (Note that this collection, which is MCTruth-level information is not usually saved on disk to save space):"
   ]
  },
  {
   "cell_type": "code",
   "execution_count": null,
   "metadata": {
    "lines_to_next_cell": 2
   },
   "outputs": [],
   "source": [
    "import ROOT\n",
    "f = ROOT.TFile(\"fccee_idea_LAr_pgun.root\")\n",
    "events = f.Get(\"events\")\n",
    "\n",
    "c = ROOT.TCanvas(\"c_ECalBarrelPositions_xy\", \"\", 700, 600)\n",
    "# draw hits for first five events\n",
    "events.Draw(\"ECalBarrelPositions.position.y:ECalBarrelPositions.position.x\", \"\", \"\", 5, 0)\n",
    "c.Draw()"
   ]
  },
  {
   "cell_type": "markdown",
   "metadata": {},
   "source": [
    "### Obtaining and Plotting the Energy Resolution\n",
    "\n",
    "Now that the detector response is simulated, it is time to reconstruct the signals. FCCSW includes another configuration to run a Sliding Window reconstruction:"
   ]
  },
  {
   "cell_type": "code",
   "execution_count": null,
   "metadata": {},
   "outputs": [],
   "source": [
    "!FCC_DETECTORS=$FCCSWBASEDIR/share/FCCSW; fccrun $FCCSWBASEDIR/share/FCCSW/RecFCCeeCalorimeter/options/runFullCaloSystem_ReconstructionSW_noiseFromFile.py -v --input fccee_idea_LAr_pgun.root -n 100 --noiseFileName root://eospublic.cern.ch//eos/experiment/fcc/ee/simulation/NoiseConstants/elecNoise_ecalBarrelFCCee_50Ohm_traces1_4shieldWidth.root --filename output_allCalo_reco_noise.root"
   ]
  },
  {
   "cell_type": "markdown",
   "metadata": {},
   "source": [
    "This configuration inludes electronics noise especially calculated for this detector geometry. which is overlayed on the branch `ECalBarrelCells` containing information on all cells in the ECal Barrel.\n",
    "First, let's visualize the impact of the noise:"
   ]
  },
  {
   "cell_type": "code",
   "execution_count": null,
   "metadata": {},
   "outputs": [],
   "source": [
    "# histograms of the calorimeter signals in all cells with and without noise\n",
    "# (zero-suppressed without noise)\n",
    "\n",
    "\n",
    "import ROOT\n",
    "f = ROOT.TFile(\"output_allCalo_reco_noise.root\")\n",
    "events = f.Get(\"events\")\n",
    "\n",
    "c = ROOT.TCanvas(\"c_ECalBarrelCellsNoise_energy\", \"\", 700, 600)\n",
    "\n",
    "h = ROOT.TH1F(\"h_ECalBarrelCells_energy\", \"Signal in Calorimeter Cells: Without Noise;ECal Barrel Cells Energy [GeV]; Cells\", 80, -0.2 ,1)\n",
    "events.Draw(\"ECalBarrelCells.core.energy >> h_ECalBarrelCells_energy\", \"\", \"\")\n",
    "\n",
    "\n",
    "\n",
    "\n",
    "\n",
    "\n",
    "\n",
    "\n",
    "c2 = ROOT.TCanvas(\"c_ECalBarrelCells_energy\", \"\", 700, 600)\n",
    "#h2 = ROOT.TH1F(\"h_ECalBarrelCellsNoise_energy\", \";ECall Barrel Cells Energy with Noise [GeV]; Events\", 80, -0.2 ,1)\n",
    "h2 = h.Clone(\"h_ECalBarrelCellsNoise_energy\")\n",
    "h2.SetTitle(\"Signal in Calorimeter Cells: With Noise;ECal Barrel Cells Energy with Noise [GeV]; Cells\")\n",
    "events.Draw(\"ECalBarrelCellsNoise.core.energy>> h_ECalBarrelCellsNoise_energy\", \"\", \"\")\n",
    "h2.GetYaxis().SetRangeUser(0.1,h2.GetMaximum()*5)\n",
    "\n",
    "h2.SetLineColor(ROOT.kBlack)\n",
    "\n",
    "\n",
    "h.GetYaxis().SetRangeUser(0.1,h2.GetMaximum()*5)\n",
    "c.SetLogy()\n",
    "c.Draw()\n",
    "\n",
    "c2.SetLogy()\n",
    "c2.Draw()"
   ]
  },
  {
   "cell_type": "markdown",
   "metadata": {},
   "source": [
    "From these plots the impact of the noise becomes clear.  Note that the branch `EcalBarrelCellsNoise` is much larger than `ECalBarrelCells`, as all cells that did not record a signal can no longer be ignored, but have to be saved as well due to the presence of noise."
   ]
  },
  {
   "cell_type": "markdown",
   "metadata": {},
   "source": [
    "### Extracting and Plotting the Resolution\n",
    "\n",
    "The root file created by FCCSW also contains the output of the Sliding Window reconstruction in the branch \"CaloClusters\". Again, we first check the contents:"
   ]
  },
  {
   "cell_type": "code",
   "execution_count": null,
   "metadata": {},
   "outputs": [],
   "source": [
    "import ROOT\n",
    "f = ROOT.TFile(\"output_allCalo_reco_noise.root\")\n",
    "events = f.Get(\"events\")\n",
    "\n",
    "c = ROOT.TCanvas(\"c_CaloClusters_energy\", \"\", 700, 600)\n",
    "hEn = ROOT.TH1F(\"h_CaloClusters_energy\", \";ECal Calo Cluster Energy [GeV]; # Clusters\", 120, 0 ,8)\n",
    "events.Draw(\"CaloClusters.core.energy >> h_CaloClusters_energy\")\n",
    "\n",
    "c.Draw()\n"
   ]
  },
  {
   "cell_type": "markdown",
   "metadata": {},
   "source": [
    "To extract the Calorimeter Performance, we have to fit the reco energy distribution:"
   ]
  },
  {
   "cell_type": "code",
   "execution_count": null,
   "metadata": {},
   "outputs": [],
   "source": [
    "\n",
    "import ROOT\n",
    "f = ROOT.TFile(\"output_allCalo_reco_noise.root\")\n",
    "events = f.Get(\"events\")\n",
    "\n",
    "c = ROOT.TCanvas(\"c_CaloClusters_energyFit\", \"\", 700, 600)\n",
    "hEn = ROOT.TH1F(\"h_CaloClusters_energy\", \";ECal Calo Cluster Energy [GeV]; # Clusters\", 120, 0 ,8)\n",
    "events.Draw(\"CaloClusters.core.energy >> h_CaloClusters_energy\")\n",
    "\n",
    "fitPre = ROOT.TF1(\"fitPre\",\"gaus\", hEn.GetMean() - 1. * hEn.GetRMS(), hEn.GetMean() + 1. * hEn.GetRMS())\n",
    "resultPre = hEn.Fit(fitPre, \"SQRN\")\n",
    "fit = ROOT.TF1(\"fit\",\"gaus\", resultPre.Get().Parameter(1) - 2. * resultPre.Get().Parameter(2), resultPre.Get().Parameter(1) + 2. * resultPre.Get().Parameter(2))\n",
    "result = hEn.Fit(fit, \"SQRN\")\n",
    "mean = result.Get().Parameter(1)\n",
    "sigma = result.Get().Parameter(2)\n",
    "dMean = result.Get().Error(1)\n",
    "dSigma = result.Get().Error(2)\n",
    "print \"mean:\", round(mean,2), \"[GeV]\"\n",
    "print \"sigma:\", round(sigma  ,2), \"[GeV]\"\n",
    "fit.Draw(\"SAME\")\n",
    "c.Draw()\n"
   ]
  },
  {
   "cell_type": "markdown",
   "metadata": {},
   "source": [
    "\n",
    "### Further Topics: Parametrizing the Energy Resolution \n",
    "\n",
    "We are of course interested in the Calorimeter response not only at one energy, but over a range of energies,\n",
    "and in particular in the usual parametrisation of the resolution:\n",
    "\n",
    "\n",
    "\n",
    "$$  {\\sigma_E \\over E} =  { a \\over \\sqrt{E}} \\oplus  {b \\over E} \\oplus c  $$,\n",
    "\n",
    "where a is the \"stochastic term\", b the \"noise term\" and c the \"constant term\" \n",
    "\n",
    "This requires a somewhat more complex script. The FCC Calo Group maintains one here: https://github.com/faltovaj/FCC_calo_analysis_cpp/blob/master/scripts/plot_enResolution.py\n",
    "\n",
    "Task: Save the output of the resolution and rerun the \n"
   ]
  },
  {
   "cell_type": "markdown",
   "metadata": {},
   "source": [
    "\n",
    "\n",
    "### Further Topics: Calculating the Sampling Fraction and using it in Simulation\n",
    "\n",
    "As you can see in https://github.com/HEP-FCC/FCCSW/blob/master/Reconstruction/RecFCCeeCalorimeter/options/runCaloSim.py#L112, the simulation already corrected for the sampling fraction of our calorimeter.\n",
    "These values themselves are taken from simulation and in case you change the geometry they need to be recalculated and updated.\n",
    "\n",
    "To calculate the sampling fraction, the geometry uses a trick: the whole detector can be made sensitive, so the signal that is usually \"lost\" can be directly accessed in the simulation. The following job options uses this special geometry:"
   ]
  },
  {
   "cell_type": "code",
   "execution_count": null,
   "metadata": {},
   "outputs": [],
   "source": [
    "%%writefile fccee_samplingfraction.py\n",
    "from Gaudi.Configuration import *\n",
    "import os\n",
    "\n",
    "# Data service\n",
    "from Configurables import FCCDataSvc\n",
    "podioevent = FCCDataSvc(\"EventDataSvc\")\n",
    "\n",
    "# DD4hep geometry service\n",
    "from Configurables import GeoSvc\n",
    "geoservice = GeoSvc(\"GeoSvc\", detectors=[ \n",
    "      os.path.join(os.environ.get(\"FCCSWBASEDIR\"),'share/FCCSW/Detector/DetFCCeeIDEA-LAr/compact/FCCee_DectEmptyMaster.xml'),\n",
    "      os.path.join(os.environ.get(\"FCCSWBASEDIR\"),'share/FCCSW/Detector/DetFCCeeECalInclined/compact/FCCee_ECalBarrel_calibration.xml'),\n",
    "            ],\n",
    "                    OutputLevel = INFO)\n",
    "\n",
    "# Geant4 service\n",
    "# Configures the Geant simulation: geometry, physics list and user actions\n",
    "from Configurables import SimG4Svc\n",
    "geantservice = SimG4Svc(\"SimG4Svc\", detector='SimG4DD4hepDetector', physicslist=\"SimG4FtfpBert\", actions=\"SimG4FullSimActions\")\n",
    "geantservice.g4PostInitCommands += [\"/run/setCut 0.1 mm\"]\n",
    "\n",
    "# Geant4 algorithm\n",
    "# Translates EDM to G4Event, passes the event to G4, writes out outputs via tools\n",
    "# and a tool that saves the calorimeter hits\n",
    "from Configurables import SimG4Alg, SimG4SaveCalHits, SimG4SingleParticleGeneratorTool\n",
    "saveecaltool = SimG4SaveCalHits(\"saveECalBarrelHits\",readoutNames = [\"ECalBarrelEta\"])\n",
    "saveecaltool.positionedCaloHits.Path = \"ECalBarrelPositionedHits\"\n",
    "saveecaltool.caloHits.Path = \"ECalBarrelHits\"\n",
    "from Configurables import SimG4SingleParticleGeneratorTool\n",
    "pgun=SimG4SingleParticleGeneratorTool(\"SimG4SingleParticleGeneratorTool\",saveEdm=True,\n",
    "                                      particleName = \"e-\", energyMin = 50000, energyMax = 50000, etaMin = 0, etaMax = 0,\n",
    "                                      OutputLevel = DEBUG)\n",
    "# next, create the G4 algorithm, giving the list of names of tools (\"XX/YY\")\n",
    "geantsim = SimG4Alg(\"SimG4Alg\",\n",
    "                    outputs= [\"SimG4SaveCalHits/saveECalBarrelHits\"],\n",
    "                    eventProvider = pgun,\n",
    "                    OutputLevel = DEBUG)\n",
    "\n",
    "from Configurables import SamplingFractionInLayers\n",
    "hist = SamplingFractionInLayers(\"hists\",\n",
    "                                 energyAxis = 50,\n",
    "                                 readoutName = \"ECalBarrelEta\",\n",
    "                                 layerFieldName = \"layer\",\n",
    "                                 activeFieldName = \"type\",\n",
    "                                 activeFieldValue = 0,\n",
    "                                 numLayers = 8,\n",
    "                                 OutputLevel = INFO)\n",
    "hist.deposits.Path=\"ECalBarrelPositionedHits\"\n",
    "\n",
    "THistSvc().Output = [\"rec DATAFILE='histSF_fccee_inclined_e50GeV_eta0_1events.root' TYP='ROOT' OPT='RECREATE'\"]\n",
    "THistSvc().PrintAll=True\n",
    "THistSvc().AutoSave=True\n",
    "THistSvc().AutoFlush=False\n",
    "THistSvc().OutputLevel=INFO\n",
    "\n",
    "#CPU information\n",
    "from Configurables import AuditorSvc, ChronoAuditor\n",
    "chra = ChronoAuditor()\n",
    "audsvc = AuditorSvc()\n",
    "audsvc.Auditors = [chra]\n",
    "geantsim.AuditExecute = True\n",
    "hist.AuditExecute = True\n",
    "\n",
    "from Configurables import PodioOutput\n",
    "### PODIO algorithm\n",
    "out = PodioOutput(\"out\",OutputLevel=DEBUG)\n",
    "out.outputCommands = [\"keep *\"]\n",
    "out.filename = \"fccee_samplingFraction_inclinedEcal.root\"\n",
    "\n",
    "# ApplicationMgr\n",
    "from Configurables import ApplicationMgr\n",
    "ApplicationMgr( TopAlg = [geantsim, hist, out],\n",
    "                EvtSel = 'NONE',\n",
    "                EvtMax = 50,\n",
    "                # order is important, as GeoSvc is needed by G4SimSvc\n",
    "                ExtSvc = [podioevent, geoservice, geantservice, audsvc],\n",
    "                OutputLevel = DEBUG\n",
    ")\n"
   ]
  },
  {
   "cell_type": "code",
   "execution_count": null,
   "metadata": {},
   "outputs": [],
   "source": [
    "!fccrun fccee_samplingfraction.py"
   ]
  },
  {
   "cell_type": "markdown",
   "metadata": {},
   "source": [
    "Now the sampling fraction can be extracted from each layer. Take a look at https://github.com/faltovaj/FCC_calo_analysis_cpp/blob/master/scripts/plot_samplingFraction.py to check how this can be done."
   ]
  }
 ],
 "metadata": {
  "jupytext": {
   "main_language": "python",
   "text_representation": {
    "extension": ".md",
    "format_name": "markdown"
   }
  },
  "kernelspec": {
   "display_name": "Python 2",
   "language": "python",
   "name": "python2"
  },
  "language_info": {
   "codemirror_mode": {
    "name": "ipython",
    "version": 2
   },
   "file_extension": ".py",
   "mimetype": "text/x-python",
   "name": "python",
   "nbconvert_exporter": "python",
   "pygments_lexer": "ipython2",
   "version": "2.7.16"
  }
 },
 "nbformat": 4,
 "nbformat_minor": 2
}
