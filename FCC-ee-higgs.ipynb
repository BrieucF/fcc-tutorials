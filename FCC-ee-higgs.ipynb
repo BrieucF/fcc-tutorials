{
 "cells": [
  {
   "cell_type": "markdown",
   "metadata": {
    "collapsed": true
   },
   "source": [
    "## Fcc-ee-higgs analysis\n",
    "\n",
    "Higgs coupling analyses for FCC-ee"
   ]
  },
  {
   "cell_type": "markdown",
   "metadata": {},
   "source": [
    "#### Preparing the environment"
   ]
  },
  {
   "cell_type": "code",
   "execution_count": 1,
   "metadata": {},
   "outputs": [
    {
     "name": "stdout",
     "output_type": "stream",
     "text": [
      "Initialized empty Git repository in /eos/user/j/jcervant/SWAN_projects/FCC-Gallery/testingGallery/test_ana/fcc_datasets/.git/\n",
      "Initialized empty Git repository in /eos/user/j/jcervant/SWAN_projects/FCC-Gallery/testingGallery/test_ana/fcc_ee_higgs/.git/\n",
      "Initialized empty Git repository in /eos/user/j/jcervant/SWAN_projects/FCC-Gallery/testingGallery/test_ana/cpyroot/.git/\n",
      "Initialized empty Git repository in /eos/user/j/jcervant/SWAN_projects/FCC-Gallery/testingGallery/test_ana/tdrstyle/.git/\n"
     ]
    }
   ],
   "source": [
    "%%bash\n",
    "\n",
    "# Create a new working directory\n",
    "mkdir -p test_ana\n",
    "cd test_ana\n",
    "\n",
    "# Clone dataset repositories\n",
    "test -e fcc_datasets || git clone https://github.com/cbernet/fcc_datasets.git\n",
    "test -e fcc_ee_higgs || git clone https://github.com/cbernet/fcc-ee-higgs.git fcc_ee_higgs\n",
    "test -e cpyroot      || git clone https://github.com/cbernet/cpyroot.git\n",
    "test -e tdrstyle     || git clone https://github.com/cbernet/tdr-style.git tdrstyle"
   ]
  },
  {
   "cell_type": "markdown",
   "metadata": {},
   "source": [
    "#### List one of the heppy(papas) datasets:"
   ]
  },
  {
   "cell_type": "code",
   "execution_count": 2,
   "metadata": {},
   "outputs": [
    {
     "name": "stdout",
     "output_type": "stream",
     "text": [
      "Welcome to JupyROOT 6.12/04\n",
      "heppy/ee_to_ZH_Z_to_ll/CMS/Jan30/ee_to_ZH_Oct30\n",
      "/eos/experiment/fcc/ee/datasets/heppy/ee_to_ZH_Z_to_ll/CMS/Jan30/ee_to_ZH_Oct30\n",
      "fcc_ee_higgs.analyzers.ZHTreeProducer.ZHTreeProducer_1/tree.root : {'good': True, 'n_events': 30009, 'zero_size': False}\n",
      "{'processing': {'nfiles': 100, 'ngoodfiles': 98},\n",
      " 'sample': {'id': UUID('39eb1292-e9b0-42ca-9536-f3d46a0f7ee4'),\n",
      "            'jobtype': 'heppy',\n",
      "            'mother': 'pythia/ee_to_ZH_Oct30',\n",
      "            'nevents': 30009,\n",
      "            'nfiles': 1,\n",
      "            'ngoodfiles': 1,\n",
      "            'pattern': 'fcc_ee_higgs.analyzers.ZHTreeProducer.ZHTreeProducer_1/tree.root'},\n",
      " 'software': {'fcc_datasets': u'df41188443d8b15436543f854ee7de77a6934036',\n",
      "              'fcc_ee_higgs': u'b01b8340ea89aa7cdbfbf9ac510f0bafc8f308b0',\n",
      "              'heppy': u'7cb2d942997594a80988187d0ab50901627575b4'}}\n"
     ]
    }
   ],
   "source": [
    "import sys\n",
    "import os\n",
    "\n",
    "sys.path.append(\"test_ana\")\n",
    "os.environ['FCCDATASETBASEOUT']=\"/eos/experiment/fcc/ee/datasets\"\n",
    "\n",
    "import ROOT\n",
    "ROOT.PyConfig.IgnoreCommandLineOptions = True\n",
    "\n",
    "from fcc_datasets.dataset import Dataset\n",
    "import fcc_datasets.basedir as basedir\n",
    "\n",
    "def process_dataset(dsname):\n",
    "    ds = Dataset(dsname)\n",
    "    print ds\n",
    "\n",
    "import sys\n",
    "import os\n",
    "import fcc_datasets\n",
    "\n",
    "dsname = \"heppy/ee_to_ZH_Z_to_ll/CMS/Jan30/ee_to_ZH_Oct30\"\n",
    "basedir.set_basename(basedir.basename())\n",
    "\n",
    "process_dataset(dsname)\n"
   ]
  },
  {
   "cell_type": "markdown",
   "metadata": {},
   "source": [
    "### Start the example"
   ]
  },
  {
   "cell_type": "code",
   "execution_count": 5,
   "metadata": {},
   "outputs": [
    {
     "name": "stdout",
     "output_type": "stream",
     "text": [
      "ZZ\n",
      "ZH\n",
      "WW\n",
      "variable:\n",
      "recoil_m\n",
      "cut:\n",
      "(zeds_1_iso_e/zeds_1_e<0.2) && (zeds_1_iso_e/zeds_1_e<0.2) && zeds_1_e>0 && zeds_2_e>0 && (abs(zeds_m-91)<4. && zeds_pt>10 && zeds_pz<50 && zeds_acol>100 && zeds_cross>10) && (zeds_1_pdgid==-zeds_2_pdgid)  && ((jets_1_e<0 || jets_1_22_e/jets_1_e<0.8) && (jets_2_e<0 || jets_2_22_e/jets_2_e<0.8))\n"
     ]
    },
    {
     "data": {
      "image/png": "[encoded data removed]",
      "text/plain": [
       "<IPython.core.display.Image object>"
      ]
     },
     "execution_count": 5,
     "metadata": {},
     "output_type": "execute_result"
    },
    {
     "name": "stderr",
     "output_type": "stream",
     "text": [
      "Info in <TCanvas::Print>: png file recoil_m_zh_inclusive_cms.png has been created\n"
     ]
    }
   ],
   "source": [
    "import sys\n",
    "sys.path.append(\"test_ana\")\n",
    "sys.path.append(\"test_ana/fcc_ee_higgs\")\n",
    "sys.path.append(\"test_ana/fcc_ee_higgs/plot\")\n",
    "\n",
    "from cpyroot import *\n",
    "\n",
    "from tdrstyle.tdrstyle import setTDRStyle\n",
    "setTDRStyle(square=True)\n",
    "from fcc_ee_higgs.components.tools import load\n",
    "\n",
    "from fitter import TemplateFitter, BaseFitter, BallFitter\n",
    "from fcc_ee_higgs.plot.plotter import Plotter\n",
    "\n",
    "import pprint\n",
    "from IPython.display import Image\n",
    "\n",
    "plot = None\n",
    "\n",
    "from ROOT import TPaveText\n",
    "infos = []\n",
    "def print_info(detector, lumimb):\n",
    "    lumi = int(lumimb/1e12)  # now in fb-1\n",
    "    xmin, ymin = 0.62, 0.7\n",
    "    xmax, ymax = xmin + 0.288, ymin + 0.15\n",
    "    pave = TPaveText(xmin, ymin, xmax, ymax, 'ndc')\n",
    "    pave.AddText(detector)\n",
    "    pave.AddText('{lumi} fb^{{-1}}'.format(lumi=lumi))\n",
    "    pave.SetTextSizePixels(28)\n",
    "    pave.SetTextAlign(11)\n",
    "    pave.SetBorderSize(0)\n",
    "    pave.SetFillColor(0)\n",
    "    pave.SetFillStyle(0)\n",
    "    pave.Draw()\n",
    "    infos.append(pave)\n",
    "    \n",
    "def get_cut_hbb(eff, fake, operator='||'):\n",
    "    return '(((jets_1_bmatch==1 && rndm<{eff}) || (jets_1_bmatch==0 && rndm<{fake})) {op} \\\n",
    "((jets_2_bmatch==1 && rndm<{eff}) || (jets_2_bmatch==0 && rndm<{fake})))'.format(eff=eff, fake=fake, op=operator)\n",
    "        \n",
    "detector = 'cms'\n",
    "if detector is 'cms':\n",
    "    from fcc_ee_higgs.components.ZH_Zll import ZH, ZZ, WW\n",
    "    b_wp = (0.6, 3e-3)    \n",
    "elif detector is 'clic':\n",
    "    from fcc_ee_higgs.components.ZH_Zll_clic import ZH, ZZ, WW\n",
    "    b_wp = (0.8, 4e-3)\n",
    "comps = [ZZ, ZH, WW]\n",
    "ZH.name =  'ZH'\n",
    "ZZ.name =  'ZZ'\n",
    "WW.name =  'WW'\n",
    "    \n",
    "# lep_eff = 0.95\n",
    "# b_wp = (0.6, 3e-3)\n",
    "# b_wp = (0.7, 1.7e-2)\n",
    "\n",
    "cut_leps = '(zeds_1_iso_e/zeds_1_e<0.2) && (zeds_1_iso_e/zeds_1_e<0.2) && zeds_1_e>0 && zeds_2_e>0'\n",
    "cut_z = '(abs(zeds_m-91)<4. && zeds_pt>10 && zeds_pz<50 && zeds_acol>100 && zeds_cross>10) && (zeds_1_pdgid==-zeds_2_pdgid) '\n",
    "# cut_eff_z = '(rndm<{lep_eff} && rndm<{lep_eff} && zeds_1_pt>7 && zeds_2_pt>7)'.format(lep_eff=lep_eff)\n",
    "cut_rad = '((jets_1_e<0 || jets_1_22_e/jets_1_e<0.8) && \\\n",
    "(jets_2_e<0 || jets_2_22_e/jets_2_e<0.8))'\n",
    "# cut_hbb = '(jets_1_b==1 && jets_2_b==1)'\n",
    "cut_hbb = get_cut_hbb(b_wp[0], b_wp[1], ' || ')\n",
    "cut_hinv = '(jets_1_e<0 && jets_2_e<0)'\n",
    "cut_hvis = '(jets_1_e>0 && jets_2_e>0)'\n",
    "\n",
    "cut_Z = ' && '.join([cut_leps, cut_z, cut_rad])\n",
    "\n",
    "\n",
    "## Main \n",
    "\n",
    "from ROOT import RooRealVar, RooDataHist, RooHistPdf, RooArgList, RooArgSet, TH1\n",
    "\n",
    "load(comps)\n",
    "lumi = 500e12\n",
    "# channel = 'inclusive'\n",
    "channel = 'inclusive'\n",
    "cut = cut_Z\n",
    "if channel is 'bb':\n",
    "    cut = ' && '.join([cut_Z, cut_hbb])\n",
    "# lumi = 5e6  # 5ab-1\n",
    "\n",
    "plotter = Plotter(comps, lumi)\n",
    "\n",
    "var = 'recoil_m'\n",
    "bins = 50, 50, 150\n",
    "\n",
    "plotter.draw(var, cut, bins)\n",
    "\n",
    "\n",
    "label = 'PAPAS\\n(CMS)'\n",
    "if detector is 'clic':\n",
    "    label = 'PAPAS\\n(CLIC-FCCee)'\n",
    "latex = TLatex()\n",
    "latex.DrawLatexNDC(0.50, 0.88, label)\n",
    "\n",
    "plotname = '{var}_zh_{channel}_{detector}.png'.format(var=var, channel=channel, detector=detector)\n",
    "\n",
    "gPad.SaveAs(plotname)\n",
    "\n",
    "\n",
    "Image(plotname) "
   ]
  },
  {
   "cell_type": "markdown",
   "metadata": {},
   "source": [
    "### Fitting"
   ]
  },
  {
   "cell_type": "code",
   "execution_count": 6,
   "metadata": {},
   "outputs": [
    {
     "name": "stdout",
     "output_type": "stream",
     "text": [
      "\n",
      "  RooFitResult: minimized FCN value: -142556, estimated distance to minimum: 9.8813e-08\n",
      "                covariance matrix quality: Full, accurate covariance matrix\n",
      "                Status : MINIMIZE=0 HESSE=0 \n",
      "\n",
      "    Floating Parameter    FinalValue +/-  Error   \n",
      "  --------------------  --------------------------\n",
      "                   nWW    5.0266e+03 +/-  1.66e+02\n",
      "                   nZH    2.4703e+03 +/-  8.20e+01\n",
      "                   nZZ    2.0103e+04 +/-  1.85e+02\n",
      "\n"
     ]
    }
   ],
   "source": [
    "tfitter = TemplateFitter(plotter.plot)\n",
    "tfitter.draw_data()\n",
    "tfitter.tresult.Print()"
   ]
  },
  {
   "cell_type": "code",
   "execution_count": null,
   "metadata": {
    "collapsed": true
   },
   "outputs": [],
   "source": []
  }
 ],
 "metadata": {
  "kernelspec": {
   "display_name": "Python 2",
   "language": "python",
   "name": "python2"
  },
  "language_info": {
   "codemirror_mode": {
    "name": "ipython",
    "version": 2
   },
   "file_extension": ".py",
   "mimetype": "text/x-python",
   "name": "python",
   "nbconvert_exporter": "python",
   "pygments_lexer": "ipython2",
   "version": "2.7.13"
  }
 },
 "nbformat": 4,
 "nbformat_minor": 2
}
